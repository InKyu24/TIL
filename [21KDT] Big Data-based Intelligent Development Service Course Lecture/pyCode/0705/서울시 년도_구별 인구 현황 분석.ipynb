{
 "cells": [
  {
   "cell_type": "code",
   "execution_count": 11,
   "id": "83efcd38",
   "metadata": {},
   "outputs": [
    {
     "name": "stdout",
     "output_type": "stream",
     "text": [
      "Requirement already satisfied: pandas in c:\\users\\user\\miniconda3\\envs\\multi\\lib\\site-packages (1.3.0)\n",
      "Requirement already satisfied: python-dateutil>=2.7.3 in c:\\users\\user\\miniconda3\\envs\\multi\\lib\\site-packages (from pandas) (2.8.1)\n",
      "Requirement already satisfied: pytz>=2017.3 in c:\\users\\user\\miniconda3\\envs\\multi\\lib\\site-packages (from pandas) (2021.1)\n",
      "Requirement already satisfied: numpy>=1.17.3 in c:\\users\\user\\miniconda3\\envs\\multi\\lib\\site-packages (from pandas) (1.21.0)\n",
      "Requirement already satisfied: six>=1.5 in c:\\users\\user\\miniconda3\\envs\\multi\\lib\\site-packages (from python-dateutil>=2.7.3->pandas) (1.16.0)\n"
     ]
    },
    {
     "name": "stderr",
     "output_type": "stream",
     "text": [
      "ERROR: Could not install packages due to an OSError: [Errno 2] No such file or directory: 'c:\\\\users\\\\user\\\\miniconda3\\\\envs\\\\multi\\\\lib\\\\site-packages\\\\pytz-2021.1.dist-info\\\\METADATA'\n",
      "\n"
     ]
    }
   ],
   "source": [
    "!pip install pandas"
   ]
  },
  {
   "cell_type": "code",
   "execution_count": 10,
   "id": "35ddbe51",
   "metadata": {},
   "outputs": [
    {
     "ename": "AttributeError",
     "evalue": "module 'pandas' has no attribute 'read_csv'",
     "output_type": "error",
     "traceback": [
      "\u001b[1;31m---------------------------------------------------------------------------\u001b[0m",
      "\u001b[1;31mAttributeError\u001b[0m                            Traceback (most recent call last)",
      "\u001b[1;32m<ipython-input-10-09c244496c92>\u001b[0m in \u001b[0;36m<module>\u001b[1;34m\u001b[0m\n\u001b[0;32m      1\u001b[0m \u001b[1;32mimport\u001b[0m \u001b[0mpandas\u001b[0m \u001b[1;32mas\u001b[0m \u001b[0mpd\u001b[0m\u001b[1;33m\u001b[0m\u001b[1;33m\u001b[0m\u001b[0m\n\u001b[0;32m      2\u001b[0m \u001b[1;33m\u001b[0m\u001b[0m\n\u001b[1;32m----> 3\u001b[1;33m \u001b[0mdf1\u001b[0m \u001b[1;33m=\u001b[0m \u001b[0mpd\u001b[0m\u001b[1;33m.\u001b[0m\u001b[0mread_csv\u001b[0m\u001b[1;33m(\u001b[0m\u001b[1;34m'./data/서울시 인구현황_구.txt'\u001b[0m\u001b[1;33m,\u001b[0m \u001b[0msep\u001b[0m\u001b[1;33m=\u001b[0m\u001b[1;34m'\\t'\u001b[0m\u001b[1;33m,\u001b[0m \u001b[0mheader\u001b[0m\u001b[1;33m=\u001b[0m\u001b[1;36m1\u001b[0m\u001b[1;33m)\u001b[0m\u001b[1;33m\u001b[0m\u001b[1;33m\u001b[0m\u001b[0m\n\u001b[0m\u001b[0;32m      4\u001b[0m \u001b[0mdf1\u001b[0m\u001b[1;33m\u001b[0m\u001b[1;33m\u001b[0m\u001b[0m\n",
      "\u001b[1;31mAttributeError\u001b[0m: module 'pandas' has no attribute 'read_csv'"
     ]
    }
   ],
   "source": [
    "import pandas as pd\n",
    "\n",
    "df1 = pd.read_csv('./data/서울시 인구현황_구.txt', sep='\\t', header=1)\n",
    "df1"
   ]
  },
  {
   "cell_type": "code",
   "execution_count": 2,
   "id": "52274ecb",
   "metadata": {},
   "outputs": [
    {
     "data": {
      "text/html": [
       "<div>\n",
       "<style scoped>\n",
       "    .dataframe tbody tr th:only-of-type {\n",
       "        vertical-align: middle;\n",
       "    }\n",
       "\n",
       "    .dataframe tbody tr th {\n",
       "        vertical-align: top;\n",
       "    }\n",
       "\n",
       "    .dataframe thead th {\n",
       "        text-align: right;\n",
       "    }\n",
       "</style>\n",
       "<table border=\"1\" class=\"dataframe\">\n",
       "  <thead>\n",
       "    <tr style=\"text-align: right;\">\n",
       "      <th></th>\n",
       "      <th>기간</th>\n",
       "      <th>자치구</th>\n",
       "      <th>세대</th>\n",
       "      <th>합계</th>\n",
       "      <th>합계.1</th>\n",
       "      <th>합계.2</th>\n",
       "      <th>한국인</th>\n",
       "      <th>한국인.1</th>\n",
       "      <th>한국인.2</th>\n",
       "      <th>등록외국인</th>\n",
       "      <th>등록외국인.1</th>\n",
       "      <th>등록외국인.2</th>\n",
       "      <th>인구밀도</th>\n",
       "      <th>인구밀도.1</th>\n",
       "      <th>세대당인구</th>\n",
       "      <th>65세이상고령자</th>\n",
       "    </tr>\n",
       "  </thead>\n",
       "  <tbody>\n",
       "    <tr>\n",
       "      <th>1</th>\n",
       "      <td>1991</td>\n",
       "      <td>합계</td>\n",
       "      <td>3,330,317</td>\n",
       "      <td>10,904,527</td>\n",
       "      <td>5,485,353</td>\n",
       "      <td>5,419,174</td>\n",
       "      <td>…</td>\n",
       "      <td>…</td>\n",
       "      <td>…</td>\n",
       "      <td>…</td>\n",
       "      <td>…</td>\n",
       "      <td>…</td>\n",
       "      <td>18,014</td>\n",
       "      <td>605.33</td>\n",
       "      <td>3.27</td>\n",
       "      <td>…</td>\n",
       "    </tr>\n",
       "    <tr>\n",
       "      <th>2</th>\n",
       "      <td>1991</td>\n",
       "      <td>종로구</td>\n",
       "      <td>78,169</td>\n",
       "      <td>236,806</td>\n",
       "      <td>119,127</td>\n",
       "      <td>117,679</td>\n",
       "      <td>…</td>\n",
       "      <td>…</td>\n",
       "      <td>…</td>\n",
       "      <td>…</td>\n",
       "      <td>…</td>\n",
       "      <td>…</td>\n",
       "      <td>9,865</td>\n",
       "      <td>24.01</td>\n",
       "      <td>3.03</td>\n",
       "      <td>…</td>\n",
       "    </tr>\n",
       "    <tr>\n",
       "      <th>3</th>\n",
       "      <td>1991</td>\n",
       "      <td>중구</td>\n",
       "      <td>61,495</td>\n",
       "      <td>184,142</td>\n",
       "      <td>93,312</td>\n",
       "      <td>90,830</td>\n",
       "      <td>…</td>\n",
       "      <td>…</td>\n",
       "      <td>…</td>\n",
       "      <td>…</td>\n",
       "      <td>…</td>\n",
       "      <td>…</td>\n",
       "      <td>18,438</td>\n",
       "      <td>9.99</td>\n",
       "      <td>2.99</td>\n",
       "      <td>…</td>\n",
       "    </tr>\n",
       "    <tr>\n",
       "      <th>4</th>\n",
       "      <td>1991</td>\n",
       "      <td>용산구</td>\n",
       "      <td>96,696</td>\n",
       "      <td>294,341</td>\n",
       "      <td>147,914</td>\n",
       "      <td>146,427</td>\n",
       "      <td>…</td>\n",
       "      <td>…</td>\n",
       "      <td>…</td>\n",
       "      <td>…</td>\n",
       "      <td>…</td>\n",
       "      <td>…</td>\n",
       "      <td>13,460</td>\n",
       "      <td>21.87</td>\n",
       "      <td>3.04</td>\n",
       "      <td>…</td>\n",
       "    </tr>\n",
       "    <tr>\n",
       "      <th>5</th>\n",
       "      <td>1991</td>\n",
       "      <td>성동구</td>\n",
       "      <td>244,272</td>\n",
       "      <td>789,014</td>\n",
       "      <td>401,375</td>\n",
       "      <td>387,639</td>\n",
       "      <td>…</td>\n",
       "      <td>…</td>\n",
       "      <td>…</td>\n",
       "      <td>…</td>\n",
       "      <td>…</td>\n",
       "      <td>…</td>\n",
       "      <td>23,273</td>\n",
       "      <td>33.9</td>\n",
       "      <td>3.23</td>\n",
       "      <td>…</td>\n",
       "    </tr>\n",
       "  </tbody>\n",
       "</table>\n",
       "</div>"
      ],
      "text/plain": [
       "     기간  자치구         세대          합계       합계.1       합계.2 한국인 한국인.1 한국인.2  \\\n",
       "1  1991   합계  3,330,317  10,904,527  5,485,353  5,419,174   …     …     …   \n",
       "2  1991  종로구     78,169     236,806    119,127    117,679   …     …     …   \n",
       "3  1991   중구     61,495     184,142     93,312     90,830   …     …     …   \n",
       "4  1991  용산구     96,696     294,341    147,914    146,427   …     …     …   \n",
       "5  1991  성동구    244,272     789,014    401,375    387,639   …     …     …   \n",
       "\n",
       "  등록외국인 등록외국인.1 등록외국인.2    인구밀도  인구밀도.1 세대당인구 65세이상고령자  \n",
       "1     …       …       …  18,014  605.33  3.27        …  \n",
       "2     …       …       …   9,865   24.01  3.03        …  \n",
       "3     …       …       …  18,438    9.99  2.99        …  \n",
       "4     …       …       …  13,460   21.87  3.04        …  \n",
       "5     …       …       …  23,273    33.9  3.23        …  "
      ]
     },
     "execution_count": 2,
     "metadata": {},
     "output_type": "execute_result"
    }
   ],
   "source": [
    "df1.iloc[:,[0,1,3,4,5,6,7,8,9,10,11,-1]]\n",
    "df1.drop(0, inplace=True) # axis=0 생략\n",
    "df1.head()"
   ]
  },
  {
   "cell_type": "code",
   "execution_count": 3,
   "id": "84fd36fe",
   "metadata": {},
   "outputs": [
    {
     "data": {
      "text/html": [
       "<div>\n",
       "<style scoped>\n",
       "    .dataframe tbody tr th:only-of-type {\n",
       "        vertical-align: middle;\n",
       "    }\n",
       "\n",
       "    .dataframe tbody tr th {\n",
       "        vertical-align: top;\n",
       "    }\n",
       "\n",
       "    .dataframe thead th {\n",
       "        text-align: right;\n",
       "    }\n",
       "</style>\n",
       "<table border=\"1\" class=\"dataframe\">\n",
       "  <thead>\n",
       "    <tr style=\"text-align: right;\">\n",
       "      <th></th>\n",
       "      <th>년도</th>\n",
       "      <th>자치구</th>\n",
       "      <th>총인구</th>\n",
       "      <th>총인구(남)</th>\n",
       "      <th>총인구(여)</th>\n",
       "      <th>내국인</th>\n",
       "      <th>내국인(남)</th>\n",
       "      <th>내국인(여)</th>\n",
       "      <th>외국인</th>\n",
       "      <th>외국인(남)</th>\n",
       "      <th>외국인(여)</th>\n",
       "      <th>65세이상</th>\n",
       "      <th>인구밀도</th>\n",
       "      <th>인구밀도.1</th>\n",
       "      <th>세대당인구</th>\n",
       "      <th>65세이상고령자</th>\n",
       "    </tr>\n",
       "  </thead>\n",
       "  <tbody>\n",
       "    <tr>\n",
       "      <th>1</th>\n",
       "      <td>1991</td>\n",
       "      <td>합계</td>\n",
       "      <td>3,330,317</td>\n",
       "      <td>10,904,527</td>\n",
       "      <td>5,485,353</td>\n",
       "      <td>5,419,174</td>\n",
       "      <td>…</td>\n",
       "      <td>…</td>\n",
       "      <td>…</td>\n",
       "      <td>…</td>\n",
       "      <td>…</td>\n",
       "      <td>…</td>\n",
       "      <td>18,014</td>\n",
       "      <td>605.33</td>\n",
       "      <td>3.27</td>\n",
       "      <td>…</td>\n",
       "    </tr>\n",
       "    <tr>\n",
       "      <th>2</th>\n",
       "      <td>1991</td>\n",
       "      <td>종로구</td>\n",
       "      <td>78,169</td>\n",
       "      <td>236,806</td>\n",
       "      <td>119,127</td>\n",
       "      <td>117,679</td>\n",
       "      <td>…</td>\n",
       "      <td>…</td>\n",
       "      <td>…</td>\n",
       "      <td>…</td>\n",
       "      <td>…</td>\n",
       "      <td>…</td>\n",
       "      <td>9,865</td>\n",
       "      <td>24.01</td>\n",
       "      <td>3.03</td>\n",
       "      <td>…</td>\n",
       "    </tr>\n",
       "    <tr>\n",
       "      <th>3</th>\n",
       "      <td>1991</td>\n",
       "      <td>중구</td>\n",
       "      <td>61,495</td>\n",
       "      <td>184,142</td>\n",
       "      <td>93,312</td>\n",
       "      <td>90,830</td>\n",
       "      <td>…</td>\n",
       "      <td>…</td>\n",
       "      <td>…</td>\n",
       "      <td>…</td>\n",
       "      <td>…</td>\n",
       "      <td>…</td>\n",
       "      <td>18,438</td>\n",
       "      <td>9.99</td>\n",
       "      <td>2.99</td>\n",
       "      <td>…</td>\n",
       "    </tr>\n",
       "  </tbody>\n",
       "</table>\n",
       "</div>"
      ],
      "text/plain": [
       "     년도  자치구        총인구      총인구(남)     총인구(여)        내국인 내국인(남) 내국인(여) 외국인  \\\n",
       "1  1991   합계  3,330,317  10,904,527  5,485,353  5,419,174      …      …   …   \n",
       "2  1991  종로구     78,169     236,806    119,127    117,679      …      …   …   \n",
       "3  1991   중구     61,495     184,142     93,312     90,830      …      …   …   \n",
       "\n",
       "  외국인(남) 외국인(여) 65세이상    인구밀도  인구밀도.1 세대당인구 65세이상고령자  \n",
       "1      …      …     …  18,014  605.33  3.27        …  \n",
       "2      …      …     …   9,865   24.01  3.03        …  \n",
       "3      …      …     …  18,438    9.99  2.99        …  "
      ]
     },
     "execution_count": 3,
     "metadata": {},
     "output_type": "execute_result"
    }
   ],
   "source": [
    "# 열 이름 변경\n",
    "col_name=['년도', '자치구','총인구','총인구(남)', '총인구(여)', '내국인', '내국인(남)', '내국인(여)',\n",
    "          '외국인', '외국인(남)','외국인(여)', '65세이상']\n",
    "\n",
    "for i in range(len(col_name)):\n",
    "    df1.rename(columns={df1.columns[i]:col_name[i]}, inplace=True)\n",
    "\n",
    "df1.head(3)"
   ]
  },
  {
   "cell_type": "code",
   "execution_count": 4,
   "id": "a2dd1a9b",
   "metadata": {},
   "outputs": [
    {
     "name": "stdout",
     "output_type": "stream",
     "text": [
      "<class 'pandas.core.frame.DataFrame'>\n",
      "Int64Index: 768 entries, 1 to 768\n",
      "Data columns (total 16 columns):\n",
      " #   Column    Non-Null Count  Dtype \n",
      "---  ------    --------------  ----- \n",
      " 0   년도        768 non-null    object\n",
      " 1   자치구       768 non-null    object\n",
      " 2   총인구       768 non-null    object\n",
      " 3   총인구(남)    768 non-null    object\n",
      " 4   총인구(여)    768 non-null    object\n",
      " 5   내국인       768 non-null    object\n",
      " 6   내국인(남)    768 non-null    object\n",
      " 7   내국인(여)    768 non-null    object\n",
      " 8   외국인       768 non-null    object\n",
      " 9   외국인(남)    768 non-null    object\n",
      " 10  외국인(여)    768 non-null    object\n",
      " 11  65세이상     768 non-null    object\n",
      " 12  인구밀도      768 non-null    object\n",
      " 13  인구밀도.1    768 non-null    object\n",
      " 14  세대당인구     768 non-null    object\n",
      " 15  65세이상고령자  768 non-null    object\n",
      "dtypes: object(16)\n",
      "memory usage: 102.0+ KB\n"
     ]
    }
   ],
   "source": [
    "df1.info()"
   ]
  },
  {
   "cell_type": "code",
   "execution_count": 5,
   "id": "f5539bd4",
   "metadata": {},
   "outputs": [
    {
     "name": "stdout",
     "output_type": "stream",
     "text": [
      "<class 'pandas.core.frame.DataFrame'>\n",
      "Int64Index: 768 entries, 1 to 768\n",
      "Data columns (total 5 columns):\n",
      " #   Column  Non-Null Count  Dtype \n",
      "---  ------  --------------  ----- \n",
      " 0   년도      768 non-null    object\n",
      " 1   자치구     768 non-null    object\n",
      " 2   총인구     768 non-null    object\n",
      " 3   총인구(남)  768 non-null    object\n",
      " 4   총인구(여)  768 non-null    object\n",
      "dtypes: object(5)\n",
      "memory usage: 36.0+ KB\n"
     ]
    }
   ],
   "source": [
    "df2=df1.iloc[:, 0:5]\n",
    "df2.head()\n",
    "df2.info()"
   ]
  },
  {
   "cell_type": "code",
   "execution_count": 6,
   "id": "2eed117d",
   "metadata": {},
   "outputs": [
    {
     "name": "stderr",
     "output_type": "stream",
     "text": [
      "C:\\Users\\user\\miniconda3\\envs\\multi\\lib\\site-packages\\pandas\\core\\frame.py:3607: SettingWithCopyWarning: \n",
      "A value is trying to be set on a copy of a slice from a DataFrame.\n",
      "Try using .loc[row_indexer,col_indexer] = value instead\n",
      "\n",
      "See the caveats in the documentation: https://pandas.pydata.org/pandas-docs/stable/user_guide/indexing.html#returning-a-view-versus-a-copy\n",
      "  self._set_item(key, value)\n"
     ]
    },
    {
     "data": {
      "text/plain": [
       "년도        object\n",
       "자치구       object\n",
       "총인구       object\n",
       "총인구(남)    object\n",
       "총인구(여)    object\n",
       "dtype: object"
      ]
     },
     "execution_count": 6,
     "metadata": {},
     "output_type": "execute_result"
    }
   ],
   "source": [
    "# pandas에서 데이터형을 원하는 데이터형으로 변겅: astype() 함수\n",
    "\n",
    "df2['총인구'] = df2['총인구'].str.replace(',','')\n",
    "df2['총인구(남)'] = df2['총인구(남)'].str.replace(',','')\n",
    "df2['총인구(여)'] = df2['총인구(여)'].str.replace(',','')\n",
    "\n",
    "df2.dtypes"
   ]
  },
  {
   "cell_type": "code",
   "execution_count": 7,
   "id": "baec032d",
   "metadata": {},
   "outputs": [
    {
     "data": {
      "text/plain": [
       "년도         int32\n",
       "자치구       object\n",
       "총인구        int32\n",
       "총인구(남)     int32\n",
       "총인구(여)     int32\n",
       "dtype: object"
      ]
     },
     "execution_count": 7,
     "metadata": {},
     "output_type": "execute_result"
    }
   ],
   "source": [
    "df2 = df2.astype({'년도':int,'총인구':int,'총인구(남)':int,'총인구(여)':int})\n",
    "\n",
    "df2.dtypes"
   ]
  },
  {
   "cell_type": "code",
   "execution_count": 8,
   "id": "fa526142",
   "metadata": {},
   "outputs": [
    {
     "data": {
      "text/html": [
       "<div>\n",
       "<style scoped>\n",
       "    .dataframe tbody tr th:only-of-type {\n",
       "        vertical-align: middle;\n",
       "    }\n",
       "\n",
       "    .dataframe tbody tr th {\n",
       "        vertical-align: top;\n",
       "    }\n",
       "\n",
       "    .dataframe thead th {\n",
       "        text-align: right;\n",
       "    }\n",
       "</style>\n",
       "<table border=\"1\" class=\"dataframe\">\n",
       "  <thead>\n",
       "    <tr style=\"text-align: right;\">\n",
       "      <th></th>\n",
       "      <th>년도</th>\n",
       "      <th>자치구</th>\n",
       "      <th>총인구</th>\n",
       "      <th>총인구(남)</th>\n",
       "      <th>총인구(여)</th>\n",
       "    </tr>\n",
       "  </thead>\n",
       "  <tbody>\n",
       "    <tr>\n",
       "      <th>1</th>\n",
       "      <td>1991</td>\n",
       "      <td>합계</td>\n",
       "      <td>3330317</td>\n",
       "      <td>10904527</td>\n",
       "      <td>5485353</td>\n",
       "    </tr>\n",
       "    <tr>\n",
       "      <th>2</th>\n",
       "      <td>1991</td>\n",
       "      <td>종로구</td>\n",
       "      <td>78169</td>\n",
       "      <td>236806</td>\n",
       "      <td>119127</td>\n",
       "    </tr>\n",
       "    <tr>\n",
       "      <th>3</th>\n",
       "      <td>1991</td>\n",
       "      <td>중구</td>\n",
       "      <td>61495</td>\n",
       "      <td>184142</td>\n",
       "      <td>93312</td>\n",
       "    </tr>\n",
       "    <tr>\n",
       "      <th>4</th>\n",
       "      <td>1991</td>\n",
       "      <td>용산구</td>\n",
       "      <td>96696</td>\n",
       "      <td>294341</td>\n",
       "      <td>147914</td>\n",
       "    </tr>\n",
       "    <tr>\n",
       "      <th>5</th>\n",
       "      <td>1991</td>\n",
       "      <td>성동구</td>\n",
       "      <td>244272</td>\n",
       "      <td>789014</td>\n",
       "      <td>401375</td>\n",
       "    </tr>\n",
       "  </tbody>\n",
       "</table>\n",
       "</div>"
      ],
      "text/plain": [
       "     년도  자치구      총인구    총인구(남)   총인구(여)\n",
       "1  1991   합계  3330317  10904527  5485353\n",
       "2  1991  종로구    78169    236806   119127\n",
       "3  1991   중구    61495    184142    93312\n",
       "4  1991  용산구    96696    294341   147914\n",
       "5  1991  성동구   244272    789014   401375"
      ]
     },
     "execution_count": 8,
     "metadata": {},
     "output_type": "execute_result"
    }
   ],
   "source": [
    "df2.head()"
   ]
  },
  {
   "cell_type": "code",
   "execution_count": 9,
   "id": "b66c8006",
   "metadata": {},
   "outputs": [
    {
     "name": "stdout",
     "output_type": "stream",
     "text": [
      "조회할 구 이름 입력:강남구\n"
     ]
    }
   ],
   "source": [
    "import matplotlib.pyplot as plt\n",
    "\n",
    "gu = input('조회할 구 이름 입력:')\n",
    "\n",
    "df3 = df2[df2['자치구']==gu]"
   ]
  },
  {
   "cell_type": "code",
   "execution_count": 10,
   "id": "a63e4dff",
   "metadata": {},
   "outputs": [
    {
     "data": {
      "image/png": "[encoded data removed]",
      "text/plain": [
       "<Figure size 432x288 with 1 Axes>"
      ]
     },
     "metadata": {
      "needs_background": "light"
     },
     "output_type": "display_data"
    }
   ],
   "source": [
    "plt.plot(df3['년도'],df3['총인구'])\n",
    "plt.show()"
   ]
  },
  {
   "cell_type": "code",
   "execution_count": 11,
   "id": "2e6d1e84",
   "metadata": {},
   "outputs": [
    {
     "data": {
      "image/png": "[encoded data removed]",
      "text/plain": [
       "<Figure size 432x288 with 1 Axes>"
      ]
     },
     "metadata": {
      "needs_background": "light"
     },
     "output_type": "display_data"
    }
   ],
   "source": [
    "plt.plot(df3['년도'],df3['총인구(남)'])\n",
    "plt.plot(df3['년도'],df3['총인구(여)'])\n",
    "plt.show()"
   ]
  },
  {
   "cell_type": "code",
   "execution_count": 12,
   "id": "a1040475",
   "metadata": {},
   "outputs": [
    {
     "data": {
      "image/png": "[encoded data removed]",
      "text/plain": [
       "<Figure size 432x288 with 2 Axes>"
      ]
     },
     "metadata": {
      "needs_background": "light"
     },
     "output_type": "display_data"
    }
   ],
   "source": [
    "import matplotlib.font_manager as fm\n",
    "font_name=fm.FontProperties(fname=\"C:/Windows/Fonts/malgun.ttf\").get_name()\n",
    "plt.rc('font', family=font_name)\n",
    "\n",
    "df3.plot(kind='hexbin', x='총인구', y='년도', gridsize=20)  # 산점도 그래프\n",
    "plt.show()"
   ]
  },
  {
   "cell_type": "code",
   "execution_count": 13,
   "id": "014b0837",
   "metadata": {},
   "outputs": [
    {
     "data": {
      "image/png": "[encoded data removed]",
      "text/plain": [
       "<Figure size 432x288 with 1 Axes>"
      ]
     },
     "metadata": {
      "needs_background": "light"
     },
     "output_type": "display_data"
    }
   ],
   "source": [
    "df3.plot(kind='bar', x='년도', y=['총인구(남)', '총인구(여)'])  \n",
    "plt.show()"
   ]
  },
  {
   "cell_type": "code",
   "execution_count": 14,
   "id": "ad3db7e2",
   "metadata": {},
   "outputs": [
    {
     "data": {
      "image/png": "[encoded data removed]",
      "text/plain": [
       "<Figure size 432x288 with 1 Axes>"
      ]
     },
     "metadata": {
      "needs_background": "light"
     },
     "output_type": "display_data"
    }
   ],
   "source": [
    "plt.plot(df3['년도'],df3['총인구(남)'])\n",
    "plt.plot(df3['년도'],df3['총인구(여)'])\n",
    "plt.show()"
   ]
  },
  {
   "cell_type": "code",
   "execution_count": 15,
   "id": "73cf4e44",
   "metadata": {},
   "outputs": [
    {
     "data": {
      "text/html": [
       "<div>\n",
       "<style scoped>\n",
       "    .dataframe tbody tr th:only-of-type {\n",
       "        vertical-align: middle;\n",
       "    }\n",
       "\n",
       "    .dataframe tbody tr th {\n",
       "        vertical-align: top;\n",
       "    }\n",
       "\n",
       "    .dataframe thead th {\n",
       "        text-align: right;\n",
       "    }\n",
       "</style>\n",
       "<table border=\"1\" class=\"dataframe\">\n",
       "  <thead>\n",
       "    <tr style=\"text-align: right;\">\n",
       "      <th></th>\n",
       "      <th>년도</th>\n",
       "      <th>자치구</th>\n",
       "      <th>총인구</th>\n",
       "      <th>총인구(남)</th>\n",
       "      <th>총인구(여)</th>\n",
       "      <th>내국인</th>\n",
       "      <th>내국인(남)</th>\n",
       "      <th>내국인(여)</th>\n",
       "      <th>외국인</th>\n",
       "      <th>외국인(남)</th>\n",
       "      <th>외국인(여)</th>\n",
       "      <th>65세이상</th>\n",
       "      <th>인구밀도</th>\n",
       "      <th>인구밀도.1</th>\n",
       "      <th>세대당인구</th>\n",
       "      <th>65세이상고령자</th>\n",
       "    </tr>\n",
       "  </thead>\n",
       "  <tbody>\n",
       "    <tr>\n",
       "      <th>1</th>\n",
       "      <td>1991</td>\n",
       "      <td>합계</td>\n",
       "      <td>3330317</td>\n",
       "      <td>10904527</td>\n",
       "      <td>5485353</td>\n",
       "      <td>5,419,174</td>\n",
       "      <td>…</td>\n",
       "      <td>…</td>\n",
       "      <td>…</td>\n",
       "      <td>…</td>\n",
       "      <td>…</td>\n",
       "      <td>…</td>\n",
       "      <td>18,014</td>\n",
       "      <td>605.33</td>\n",
       "      <td>3.27</td>\n",
       "      <td>…</td>\n",
       "    </tr>\n",
       "    <tr>\n",
       "      <th>2</th>\n",
       "      <td>1991</td>\n",
       "      <td>종로구</td>\n",
       "      <td>78169</td>\n",
       "      <td>236806</td>\n",
       "      <td>119127</td>\n",
       "      <td>117,679</td>\n",
       "      <td>…</td>\n",
       "      <td>…</td>\n",
       "      <td>…</td>\n",
       "      <td>…</td>\n",
       "      <td>…</td>\n",
       "      <td>…</td>\n",
       "      <td>9,865</td>\n",
       "      <td>24.01</td>\n",
       "      <td>3.03</td>\n",
       "      <td>…</td>\n",
       "    </tr>\n",
       "    <tr>\n",
       "      <th>3</th>\n",
       "      <td>1991</td>\n",
       "      <td>중구</td>\n",
       "      <td>61495</td>\n",
       "      <td>184142</td>\n",
       "      <td>93312</td>\n",
       "      <td>90,830</td>\n",
       "      <td>…</td>\n",
       "      <td>…</td>\n",
       "      <td>…</td>\n",
       "      <td>…</td>\n",
       "      <td>…</td>\n",
       "      <td>…</td>\n",
       "      <td>18,438</td>\n",
       "      <td>9.99</td>\n",
       "      <td>2.99</td>\n",
       "      <td>…</td>\n",
       "    </tr>\n",
       "    <tr>\n",
       "      <th>4</th>\n",
       "      <td>1991</td>\n",
       "      <td>용산구</td>\n",
       "      <td>96696</td>\n",
       "      <td>294341</td>\n",
       "      <td>147914</td>\n",
       "      <td>146,427</td>\n",
       "      <td>…</td>\n",
       "      <td>…</td>\n",
       "      <td>…</td>\n",
       "      <td>…</td>\n",
       "      <td>…</td>\n",
       "      <td>…</td>\n",
       "      <td>13,460</td>\n",
       "      <td>21.87</td>\n",
       "      <td>3.04</td>\n",
       "      <td>…</td>\n",
       "    </tr>\n",
       "    <tr>\n",
       "      <th>5</th>\n",
       "      <td>1991</td>\n",
       "      <td>성동구</td>\n",
       "      <td>244272</td>\n",
       "      <td>789014</td>\n",
       "      <td>401375</td>\n",
       "      <td>387,639</td>\n",
       "      <td>…</td>\n",
       "      <td>…</td>\n",
       "      <td>…</td>\n",
       "      <td>…</td>\n",
       "      <td>…</td>\n",
       "      <td>…</td>\n",
       "      <td>23,273</td>\n",
       "      <td>33.9</td>\n",
       "      <td>3.23</td>\n",
       "      <td>…</td>\n",
       "    </tr>\n",
       "    <tr>\n",
       "      <th>...</th>\n",
       "      <td>...</td>\n",
       "      <td>...</td>\n",
       "      <td>...</td>\n",
       "      <td>...</td>\n",
       "      <td>...</td>\n",
       "      <td>...</td>\n",
       "      <td>...</td>\n",
       "      <td>...</td>\n",
       "      <td>...</td>\n",
       "      <td>...</td>\n",
       "      <td>...</td>\n",
       "      <td>...</td>\n",
       "      <td>...</td>\n",
       "      <td>...</td>\n",
       "      <td>...</td>\n",
       "      <td>...</td>\n",
       "    </tr>\n",
       "    <tr>\n",
       "      <th>764</th>\n",
       "      <td>2020</td>\n",
       "      <td>관악구</td>\n",
       "      <td>274811</td>\n",
       "      <td>509803</td>\n",
       "      <td>255211</td>\n",
       "      <td>254,592</td>\n",
       "      <td>495,060</td>\n",
       "      <td>248,339</td>\n",
       "      <td>246,721</td>\n",
       "      <td>14,743</td>\n",
       "      <td>6,872</td>\n",
       "      <td>7,871</td>\n",
       "      <td>-</td>\n",
       "      <td>-</td>\n",
       "      <td>1.8</td>\n",
       "      <td>78,875</td>\n",
       "    </tr>\n",
       "    <tr>\n",
       "      <th>765</th>\n",
       "      <td>2020</td>\n",
       "      <td>서초구</td>\n",
       "      <td>173502</td>\n",
       "      <td>429025</td>\n",
       "      <td>205282</td>\n",
       "      <td>223,743</td>\n",
       "      <td>425,126</td>\n",
       "      <td>203,359</td>\n",
       "      <td>221,767</td>\n",
       "      <td>3,899</td>\n",
       "      <td>1,923</td>\n",
       "      <td>1,976</td>\n",
       "      <td>-</td>\n",
       "      <td>-</td>\n",
       "      <td>2.45</td>\n",
       "      <td>60,169</td>\n",
       "    </tr>\n",
       "    <tr>\n",
       "      <th>766</th>\n",
       "      <td>2020</td>\n",
       "      <td>강남구</td>\n",
       "      <td>234872</td>\n",
       "      <td>544055</td>\n",
       "      <td>260378</td>\n",
       "      <td>283,677</td>\n",
       "      <td>539,231</td>\n",
       "      <td>257,999</td>\n",
       "      <td>281,232</td>\n",
       "      <td>4,824</td>\n",
       "      <td>2,379</td>\n",
       "      <td>2,445</td>\n",
       "      <td>-</td>\n",
       "      <td>-</td>\n",
       "      <td>2.3</td>\n",
       "      <td>75,096</td>\n",
       "    </tr>\n",
       "    <tr>\n",
       "      <th>767</th>\n",
       "      <td>2020</td>\n",
       "      <td>송파구</td>\n",
       "      <td>281959</td>\n",
       "      <td>673926</td>\n",
       "      <td>325080</td>\n",
       "      <td>348,846</td>\n",
       "      <td>667,960</td>\n",
       "      <td>322,299</td>\n",
       "      <td>345,661</td>\n",
       "      <td>5,966</td>\n",
       "      <td>2,781</td>\n",
       "      <td>3,185</td>\n",
       "      <td>-</td>\n",
       "      <td>-</td>\n",
       "      <td>2.37</td>\n",
       "      <td>93,483</td>\n",
       "    </tr>\n",
       "    <tr>\n",
       "      <th>768</th>\n",
       "      <td>2020</td>\n",
       "      <td>강동구</td>\n",
       "      <td>196499</td>\n",
       "      <td>463998</td>\n",
       "      <td>228044</td>\n",
       "      <td>235,954</td>\n",
       "      <td>459,970</td>\n",
       "      <td>226,216</td>\n",
       "      <td>233,754</td>\n",
       "      <td>4,028</td>\n",
       "      <td>1,828</td>\n",
       "      <td>2,200</td>\n",
       "      <td>-</td>\n",
       "      <td>-</td>\n",
       "      <td>2.34</td>\n",
       "      <td>70,019</td>\n",
       "    </tr>\n",
       "  </tbody>\n",
       "</table>\n",
       "<p>768 rows × 16 columns</p>\n",
       "</div>"
      ],
      "text/plain": [
       "       년도  자치구      총인구    총인구(남)   총인구(여)        내국인   내국인(남)   내국인(여)  \\\n",
       "1    1991   합계  3330317  10904527  5485353  5,419,174        …        …   \n",
       "2    1991  종로구    78169    236806   119127    117,679        …        …   \n",
       "3    1991   중구    61495    184142    93312     90,830        …        …   \n",
       "4    1991  용산구    96696    294341   147914    146,427        …        …   \n",
       "5    1991  성동구   244272    789014   401375    387,639        …        …   \n",
       "..    ...  ...      ...       ...      ...        ...      ...      ...   \n",
       "764  2020  관악구   274811    509803   255211    254,592  495,060  248,339   \n",
       "765  2020  서초구   173502    429025   205282    223,743  425,126  203,359   \n",
       "766  2020  강남구   234872    544055   260378    283,677  539,231  257,999   \n",
       "767  2020  송파구   281959    673926   325080    348,846  667,960  322,299   \n",
       "768  2020  강동구   196499    463998   228044    235,954  459,970  226,216   \n",
       "\n",
       "         외국인  외국인(남) 외국인(여)  65세이상    인구밀도  인구밀도.1 세대당인구 65세이상고령자  \n",
       "1          …       …      …      …  18,014  605.33  3.27        …  \n",
       "2          …       …      …      …   9,865   24.01  3.03        …  \n",
       "3          …       …      …      …  18,438    9.99  2.99        …  \n",
       "4          …       …      …      …  13,460   21.87  3.04        …  \n",
       "5          …       …      …      …  23,273    33.9  3.23        …  \n",
       "..       ...     ...    ...    ...     ...     ...   ...      ...  \n",
       "764  246,721  14,743  6,872  7,871       -       -   1.8   78,875  \n",
       "765  221,767   3,899  1,923  1,976       -       -  2.45   60,169  \n",
       "766  281,232   4,824  2,379  2,445       -       -   2.3   75,096  \n",
       "767  345,661   5,966  2,781  3,185       -       -  2.37   93,483  \n",
       "768  233,754   4,028  1,828  2,200       -       -  2.34   70,019  \n",
       "\n",
       "[768 rows x 16 columns]"
      ]
     },
     "execution_count": 15,
     "metadata": {},
     "output_type": "execute_result"
    }
   ],
   "source": [
    "df1[df1['내국인'] != '…']"
   ]
  },
  {
   "cell_type": "code",
   "execution_count": null,
   "id": "b55c98f3",
   "metadata": {},
   "outputs": [],
   "source": []
  },
  {
   "cell_type": "code",
   "execution_count": null,
   "id": "3ec39037",
   "metadata": {},
   "outputs": [],
   "source": []
  }
 ],
 "metadata": {
  "kernelspec": {
   "display_name": "Python 3",
   "language": "python",
   "name": "python3"
  },
  "language_info": {
   "codemirror_mode": {
    "name": "ipython",
    "version": 3
   },
   "file_extension": ".py",
   "mimetype": "text/x-python",
   "name": "python",
   "nbconvert_exporter": "python",
   "pygments_lexer": "ipython3",
   "version": "3.9.5"
  }
 },
 "nbformat": 4,
 "nbformat_minor": 5
}
