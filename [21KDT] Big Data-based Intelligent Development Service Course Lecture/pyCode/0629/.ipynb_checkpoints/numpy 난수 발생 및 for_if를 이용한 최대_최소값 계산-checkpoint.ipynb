{
 "cells": [
  {
   "cell_type": "code",
   "execution_count": 69,
   "id": "8c41de6d",
   "metadata": {},
   "outputs": [
    {
     "data": {
      "text/plain": [
       "10"
      ]
     },
     "execution_count": 69,
     "metadata": {},
     "output_type": "execute_result"
    }
   ],
   "source": [
    "import numpy as np\n",
    "\n",
    "# 10~20 사이의 정수를 임의로 생성\n",
    "np.random.randint(10, 20)"
   ]
  },
  {
   "cell_type": "code",
   "execution_count": 46,
   "id": "78c72024",
   "metadata": {},
   "outputs": [
    {
     "name": "stdout",
     "output_type": "stream",
     "text": [
      "[18, 41, 6, 45, 9, 27, 44, 47, 32, 2]\n"
     ]
    }
   ],
   "source": [
    "rd_list = []\n",
    "for i in range(10):\n",
    "    rd_list.append(np.random.randint(0, 51))\n",
    "    \n",
    "print(rd_list)"
   ]
  },
  {
   "cell_type": "code",
   "execution_count": null,
   "id": "9d0f2bdf",
   "metadata": {},
   "outputs": [],
   "source": [
    " words 데이터에서 글자수가 4개 이상인 데이터를 찾아 출력"
   ]
  },
  {
   "cell_type": "code",
   "execution_count": 50,
   "id": "17b49990",
   "metadata": {},
   "outputs": [
    {
     "name": "stdout",
     "output_type": "stream",
     "text": [
      "['멀티캠퍼스', '티스토리', '프로그래밍']\n"
     ]
    }
   ],
   "source": [
    "words = [\"멀티캠퍼스\" ,\"티스토리\", \"블로그\", \"파이썬\", \"for\", \"프로그래밍\", \"반복\"]\n",
    "new_words = []\n",
    "\n",
    "for word in words:\n",
    "    if len(word) > 3:\n",
    "        new_words.append(word)\n",
    "        \n",
    "print(new_words)"
   ]
  },
  {
   "cell_type": "code",
   "execution_count": 62,
   "id": "e0df5a7b",
   "metadata": {},
   "outputs": [
    {
     "name": "stdout",
     "output_type": "stream",
     "text": [
      "['멀티캠퍼스', '티스토리', '프로그래밍']\n"
     ]
    }
   ],
   "source": [
    "new_words= [word for word in words if len(word) >3 ]\n",
    "print(new_words)"
   ]
  },
  {
   "cell_type": "code",
   "execution_count": 75,
   "id": "091cb4f2",
   "metadata": {},
   "outputs": [
    {
     "data": {
      "text/plain": [
       "1"
      ]
     },
     "execution_count": 75,
     "metadata": {},
     "output_type": "execute_result"
    }
   ],
   "source": [
    "np.random.randint(1, 2)"
   ]
  },
  {
   "cell_type": "code",
   "execution_count": 86,
   "id": "82943707",
   "metadata": {},
   "outputs": [
    {
     "name": "stdout",
     "output_type": "stream",
     "text": [
      "['이중 for문', '프로그래밍', 'Python', 'leetCode', 'BaekJoon', 'HackerRank', '멀티캠퍼스', 'COMPAS', 'DACON', 'Kaggle']\n"
     ]
    }
   ],
   "source": [
    "words = [ [ \"이중 for문\", \"파이썬\", \"프로그래밍\", \"스터디\" ], \n",
    "[ \"Python\", \"NLP\", \"ML\", \"DL\" ], [ \"leetCode\", \"BaekJoon\", \"HackerRank\" ], \n",
    "[ \"멀티캠퍼스\", \"COMPAS\", \"DACON\", \"Kaggle\" ] ]\n",
    "\n",
    "new_words  = []\n",
    "for each_word_lst in words:\n",
    "    for word in each_word_lst:\n",
    "        if len(word) > 3:\n",
    "            new_words.append(word)\n",
    "            \n",
    "print(new_words)"
   ]
  },
  {
   "cell_type": "code",
   "execution_count": 89,
   "id": "116cacde",
   "metadata": {},
   "outputs": [],
   "source": [
    "a = np.random.randint(51, size=10)"
   ]
  },
  {
   "cell_type": "markdown",
   "id": "c817a7d9",
   "metadata": {},
   "source": [
    "요구사항: 리스트 개체를 생성하는 코드를 작성해주세요\n",
    "리스트 개체는 총 5개의 리스트 요소를 가지고 있고 각 리스트 요소마다 10에서 20개 사이의 값을 가지고 있습니다.\n",
    "이 값은 0 ~ 50 사이의 임의의 값으로 만들어져 있습니다.\n",
    "[[0, 24, 3, ..20], [44, 14, 8, ..10], [0, 3, 12, ..13], [49, 24, 13, ..15], [0, 24, 3, ..17]]\n",
    "문제 해결 알고리즘\n",
    "10~20 size 발생: random.randint(10, 21) ==> size\n",
    "0~50 사이값 발생: random.randint(0, 51, size=10-20)\n",
    "리스트 인수 5개 생성: for i range(5)\n"
   ]
  },
  {
   "cell_type": "code",
   "execution_count": 94,
   "id": "ca0cda93",
   "metadata": {},
   "outputs": [
    {
     "name": "stdout",
     "output_type": "stream",
     "text": [
      "[array([47, 27, 31, 25, 44, 17, 22, 39, 19,  5, 37]), array([ 0, 44,  2, 46, 17, 29, 26, 20, 13, 45, 17, 24, 31, 22, 15, 13, 44,\n",
      "       10]), array([35, 19, 29,  9, 14, 10, 45, 11, 39, 33, 23, 15,  3,  1, 10, 50, 43,\n",
      "       17]), array([ 4, 21, 44, 12, 29,  6, 42, 22, 26, 31, 49, 19, 41, 32]), array([ 8, 42, 38, 50, 26, 50, 21, 14, 21, 39, 44, 50, 17, 46, 13,  8])]\n"
     ]
    }
   ],
   "source": [
    "import numpy as np\n",
    "\n",
    "rd_lst=[]\n",
    "for i in range(5) :\n",
    "    rd_lst.append(np.random.randint(0,51,size=np.random.randint(10,21)))\n",
    "    \n",
    "print(rd_lst)"
   ]
  },
  {
   "cell_type": "code",
   "execution_count": 105,
   "id": "02a21c4d",
   "metadata": {},
   "outputs": [
    {
     "data": {
      "text/plain": [
       "[[48, 1, 49, 20, 6, 40, 8, 36, 2, 16, 16, 39, 15],\n",
       " [39, 46, 39, 1, 4, 16, 49, 37, 45, 6, 26, 14, 28],\n",
       " [0, 21, 30, 24, 49, 18, 20, 49, 4, 7, 5, 26, 37],\n",
       " [34, 2, 28, 47, 10, 1, 22, 26, 30, 31, 26, 42, 16, 15, 45, 9, 48],\n",
       " [13, 20, 9, 37, 28, 16, 17, 2, 7, 22, 21, 39, 14, 27]]"
      ]
     },
     "execution_count": 105,
     "metadata": {},
     "output_type": "execute_result"
    }
   ],
   "source": [
    "rd_lst=[list(np.random.randint(0,51,size=np.random.randint(10,21))) for i in range(5)]\n",
    "rd_lst"
   ]
  },
  {
   "cell_type": "code",
   "execution_count": 136,
   "id": "f77b8696",
   "metadata": {},
   "outputs": [
    {
     "name": "stdout",
     "output_type": "stream",
     "text": [
      "407\n"
     ]
    }
   ],
   "source": [
    "# 배열 내 최대값 구하기\n",
    "data=[34, 23, 20, 43, 1, 5, 2, 14, 18, 24, 40, 18, 38, 4, 3, 22, 43, 6, 36, 13]\n",
    "sumdata = 0\n",
    "for dt in data:\n",
    "    sumdata += dt\n",
    "print(sumdata)"
   ]
  },
  {
   "cell_type": "code",
   "execution_count": 160,
   "id": "c629a3dc",
   "metadata": {},
   "outputs": [
    {
     "data": {
      "text/plain": [
       "[[48, 1, 49, 20, 6, 40, 8, 36, 2, 16, 16, 39, 15],\n",
       " [39, 46, 39, 1, 4, 16, 49, 37, 45, 6, 26, 14, 28],\n",
       " [0, 21, 30, 24, 49, 18, 20, 49, 4, 7, 5, 26, 37],\n",
       " [34, 2, 28, 47, 10, 1, 22, 26, 30, 31, 26, 42, 16, 15, 45, 9, 48],\n",
       " [13, 20, 9, 37, 28, 16, 17, 2, 7, 22, 21, 39, 14, 27]]"
      ]
     },
     "execution_count": 160,
     "metadata": {},
     "output_type": "execute_result"
    }
   ],
   "source": [
    "rd_lst"
   ]
  },
  {
   "cell_type": "code",
   "execution_count": 156,
   "id": "cba2f7dc",
   "metadata": {},
   "outputs": [
    {
     "name": "stdout",
     "output_type": "stream",
     "text": [
      "49\n"
     ]
    }
   ],
   "source": [
    "mxdata = rd_lst[0][0]\n",
    "for dat in rd_lst:\n",
    "    for i in dat:\n",
    "        if i >  mxdata :\n",
    "            mxdata = i\n",
    "print(mxdata)"
   ]
  },
  {
   "cell_type": "code",
   "execution_count": 168,
   "id": "aeace5ce",
   "metadata": {},
   "outputs": [
    {
     "name": "stdout",
     "output_type": "stream",
     "text": [
      "49\n",
      "0\n",
      "1640\n"
     ]
    }
   ],
   "source": [
    "lst = \t[[48, 1, 49, 20, 6, 40, 8, 36, 2, 16, 16, 39, 15],\n",
    "\t\t[39, 46, 39, 1, 4, 16, 49, 37, 45, 6, 26, 14, 28],\n",
    "        [0, 21, 30, 24, 49, 18, 20, 49, 4, 7, 5, 26, 37],\n",
    "\t\t[34, 2, 28, 47, 10, 1, 22, 26, 30, 31, 26, 42, 16, 15, 45, 9, 48],\n",
    "\t\t[13, 20, 9, 37, 28, 16, 17, 2, 7, 22, 21, 39, 14, 27]]\n",
    "\n",
    "mxdata = lst[0][0]\n",
    "for dat in lst:\n",
    "    for i in dat:\n",
    "        if i >  mxdata :\n",
    "            mxdata = i\n",
    "print(mxdata)\n",
    "\n",
    "mndata = lst[0][0]\n",
    "for dat in lst:\n",
    "    for i in dat:\n",
    "        if i <  mndata :\n",
    "            mndata = i\n",
    "print(mndata)\n",
    "\n",
    "sumdata = 0\n",
    "for dat in lst:\n",
    "    for i in dat:\n",
    "        sumdata += i\n",
    "print(sumdata)"
   ]
  },
  {
   "cell_type": "code",
   "execution_count": 170,
   "id": "b0414278",
   "metadata": {},
   "outputs": [
    {
     "name": "stdout",
     "output_type": "stream",
     "text": [
      "최대값:49, 최소값:0, 합계:1640\n"
     ]
    }
   ],
   "source": [
    "print(f'최대값:{mxdata}, 최소값:{mndata}, 합계:{sumdata}')"
   ]
  },
  {
   "cell_type": "code",
   "execution_count": 173,
   "id": "ad607844",
   "metadata": {},
   "outputs": [
    {
     "data": {
      "text/plain": [
       "[[6, 35, 1, 18, 29, 1, 18, 17, 11, 19, 11, 5],\n",
       " [43, 47, 25, 10, 5, 0, 22, 18, 4, 6, 14, 49, 29, 38, 22, 0, 31],\n",
       " [44, 48, 40, 32, 27, 30, 7, 10, 44, 46, 48, 13, 21, 14, 32],\n",
       " [39, 39, 42, 30, 49, 21, 45, 19, 18, 8, 3, 3, 28, 28],\n",
       " [43, 38, 25, 27, 25, 45, 10, 31, 40, 39, 24, 2, 19, 16, 3]]"
      ]
     },
     "execution_count": 173,
     "metadata": {},
     "output_type": "execute_result"
    }
   ],
   "source": [
    "rd_lst=[list(np.random.randint(0,51,size=np.random.randint(10,21))) for i in range(5)]\n",
    "rd_lst"
   ]
  },
  {
   "cell_type": "code",
   "execution_count": 195,
   "id": "19922a89",
   "metadata": {},
   "outputs": [
    {
     "name": "stdout",
     "output_type": "stream",
     "text": [
      "[372, 49, 3]\n",
      "[372, 49, 3]\n",
      "[372, 49, 3]\n",
      "[372, 49, 3]\n",
      "[372, 49, 3]\n",
      "[372, 49, 3]\n",
      "전체 합계:1860, 전체 최대:49, 전체 최소:3\n"
     ]
    }
   ],
   "source": [
    "G_lst=[]\n",
    "Tot_lst=[0, rd_lst[0][0], rd_lst[0][0]]\n",
    "\n",
    "for I in range(len(rd_lst)):\n",
    "    group_lst = [0, rd_lst[i][0], rd_lst[i][0]]\n",
    "    for data in rd_lst[i]:\n",
    "        group_lst[0] += data\n",
    "        \n",
    "        if data > group_lst[1]:\n",
    "            group_lst[1] = data\n",
    "            \n",
    "        if data < group_lst[2]:\n",
    "            group_lst[2] = data\n",
    "        \n",
    "        Tot_lst[0] += data\n",
    "        \n",
    "        if data > Tot_lst[1]:\n",
    "            Tot_lst[1] = data\n",
    "            \n",
    "        if data < Tot_lst[2]:\n",
    "            Tot_lst[2] = data\n",
    "    \n",
    "    print(group_lst)\n",
    "            \n",
    "print(f'전체 합계:{Tot_lst[0]}, 전체 최대:{Tot_lst[1]}, 전체 최소:{Tot_lst[2]}')"
   ]
  },
  {
   "cell_type": "code",
   "execution_count": null,
   "id": "73fe329f",
   "metadata": {},
   "outputs": [],
   "source": []
  }
 ],
 "metadata": {
  "kernelspec": {
   "display_name": "Python 3",
   "language": "python",
   "name": "python3"
  },
  "language_info": {
   "codemirror_mode": {
    "name": "ipython",
    "version": 3
   },
   "file_extension": ".py",
   "mimetype": "text/x-python",
   "name": "python",
   "nbconvert_exporter": "python",
   "pygments_lexer": "ipython3",
   "version": "3.9.5"
  }
 },
 "nbformat": 4,
 "nbformat_minor": 5
}
