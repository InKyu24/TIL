{
 "cells": [
  {
   "cell_type": "markdown",
   "id": "15a43880",
   "metadata": {},
   "source": [
    "### 사용자 함수\n",
    "- def로 시작\n",
    "- 기본형식: def 함수명(인수, ..):\n",
    "- 사용자 함수 => 실행형(non-fruitful)/return형(fruitful)\n",
    "- 함수호출: 함수명(인수 대입값, ...)\n",
    "- 함수는 함수를 호출하는 코드 이전에 실행되어야 한다 (변수를 먼저 정의하고 사용하는 것과 같은 이치)"
   ]
  },
  {
   "cell_type": "code",
   "execution_count": 151,
   "id": "a2062959",
   "metadata": {},
   "outputs": [],
   "source": [
    "def txt_print(name):\n",
    "    if type(name) == str:\n",
    "        print(f'{name}님 안녕하세요')\n",
    "    else:\n",
    "        print('문자만 출력 가능합니다.')\n",
    "        \n",
    "def txt_count(txt, tsc):\n",
    "    txtLen=len(tsc)\n",
    "    cnt = 0\n",
    "    \n",
    "    for i in range(len(txt)-(txtLen-1)):\n",
    "        if txt[i:i+txtLen] == tsc:\n",
    "            cnt += 1\n",
    "    \n",
    "    return cnt"
   ]
  },
  {
   "cell_type": "code",
   "execution_count": 4,
   "id": "e580cebd",
   "metadata": {},
   "outputs": [
    {
     "name": "stdout",
     "output_type": "stream",
     "text": [
      "홍길동님 안녕하세요\n"
     ]
    }
   ],
   "source": [
    "txt_print(\"홍길동\")"
   ]
  },
  {
   "cell_type": "code",
   "execution_count": 28,
   "id": "d30b164b",
   "metadata": {},
   "outputs": [
    {
     "name": "stdout",
     "output_type": "stream",
     "text": [
      "찾을 단어 입력: ㅇ\n",
      "<ㅇ> 입력된 개수: 0 개\n"
     ]
    }
   ],
   "source": [
    "txt='''식물성 음식만 먹는 채식주의를 선호하는 사람들이 늘고 있다.\n",
    "채식이 건강에 좋다고 생각해서 이를 실천하는 사람들도 있지만,\n",
    "동물권을 존중해서 혹은 가축 사육으로 인한 환경 파괴 등의 문제로 채식을 하는 사람들도 있다.'''\n",
    "\n",
    "단어 = input('찾을 단어 입력: ')\n",
    "txtcnt = txt_count(txt, 단어)\n",
    "print(f'<{단어}> 입력된 개수: {txtcnt} 개')\n",
    "\n",
    "del txt, txtcnt, 단어"
   ]
  },
  {
   "cell_type": "code",
   "execution_count": 330,
   "id": "a9f46645",
   "metadata": {},
   "outputs": [],
   "source": [
    "def User_split(txt, spl=\" \"):\n",
    "    txt=txt.replace('\\n','')\n",
    "    txt_list = []    \n",
    "    word=\"\"\n",
    "    a =0 \n",
    "    for i in range(len(txt)):\n",
    "        if txt[i:i+len(spl)] != spl:\n",
    "            word += txt[i]            \n",
    "        else:\n",
    "            txt_list.append(word)\n",
    "            word=spl[0]\n",
    "    if word != \"\":\n",
    "        txt_list.append(word)\n",
    "    return txt_list"
   ]
  },
  {
   "cell_type": "code",
   "execution_count": 337,
   "id": "0e1b7ef2",
   "metadata": {},
   "outputs": [
    {
     "data": {
      "text/plain": [
       "['식물성 음식만 먹는 채식주의를 선호하는 ',\n",
       " '사람들이 늘고 있다. 채식이 건강에 좋다고 생각해서 이를 실천하는 ',\n",
       " '사람들도 있지만, 동물권을 존중해서 혹은 가축 사육으로 인한 환경 파괴 등의 문제로 채식을 하는 ',\n",
       " '사람들도 있다.']"
      ]
     },
     "execution_count": 337,
     "metadata": {},
     "output_type": "execute_result"
    }
   ],
   "source": [
    "txt='''식물성 음식만 먹는 채식주의를 선호하는 사람들이 늘고 있다.\n",
    "채식이 건강에 좋다고 생각해서 이를 실천하는 사람들도 있지만,\n",
    "동물권을 존중해서 혹은 가축 사육으로 인한 환경 파괴 등의 문제로 채식을 하는 사람들도 있다.'''\n",
    "\n",
    "txt='''식물성 음식만 먹는 채식주의를 선호하는 사람들이 늘고 있다. 채식이 건강에 좋다고 생각해서 이를 실천하는 사람들도 있지만, 동물권을 존중해서 혹은 가축 사육으로 인한 환경 파괴 등의 문제로 채식을 하는 사람들도 있다.'''\n",
    "User_split(txt, \"사람들\")"
   ]
  },
  {
   "cell_type": "code",
   "execution_count": 382,
   "id": "8fb028a8",
   "metadata": {},
   "outputs": [
    {
     "name": "stdout",
     "output_type": "stream",
     "text": [
      "1 번째 값 1\n",
      "***lstPrn에 1 추가***\n",
      "2 번째 값 2\n",
      "***lstPrn에 2 추가***\n",
      "3 번째 값 3\n",
      "***lstPrn에 3 추가***\n",
      "4 번째 값 1\n",
      "5 번째 값 2\n",
      "6 번째 값 1\n",
      "7 번째 값 2\n",
      "8 번째 값 5\n",
      "***lstPrn에 5 추가***\n",
      "9 번째 값 4\n",
      "***lstPrn에 4 추가***\n",
      "10 번째 값 2\n",
      "11 번째 값 6\n",
      "***lstPrn에 6 추가***\n",
      "12 번째 값 8\n",
      "***lstPrn에 8 추가***\n",
      "13 번째 값 9\n",
      "***lstPrn에 9 추가***\n",
      "14 번째 값 2\n",
      "15 번째 값 5\n",
      "16 번째 값 4\n",
      "17 번째 값 2\n",
      "18 번째 값 5\n",
      "19 번째 값 3\n",
      "20 번째 값 6\n",
      "21 번째 값 9\n",
      "22 번째 값 7\n",
      "***lstPrn에 7 추가***\n",
      "[1, 2, 3, 5, 4, 6, 8, 9, 7]\n"
     ]
    }
   ],
   "source": [
    "lstData = [1,2,3,1,2,1,2,5,4,2,6,8,9,2,5,4,2,5,3,6,9,7]\n",
    "lstPrn = []\n",
    "a = 0\n",
    "for num in lstData:\n",
    "    a += 1\n",
    "    print (a,\"번째 값\", num)\n",
    "    if len(lstPrn)==0:\n",
    "        lstPrn.append(num)\n",
    "        print (\"*********lstPrn에\", num, '추가*********')\n",
    "        \n",
    "        continue\n",
    "    cnt = 0\n",
    "    for pr in lstPrn:\n",
    "        if num == pr:\n",
    "            cnt = cnt+1\n",
    "    if cnt == 0:\n",
    "        lstPrn.append(num)\n",
    "        print (\"*********lstPrn에\", num, '추가*********')\n",
    "\n",
    "print(lstPrn)"
   ]
  },
  {
   "cell_type": "code",
   "execution_count": 377,
   "id": "83dc0a69",
   "metadata": {},
   "outputs": [
    {
     "name": "stdout",
     "output_type": "stream",
     "text": [
      "[1, 2, 3, 5, 4, 6, 8, 9, 7]\n"
     ]
    }
   ],
   "source": [
    "lstPrn=[]\n",
    "for num in lstData:\n",
    "    if len(lstPrn)==0:\n",
    "        lstPrn.append(num)\n",
    "        continue\n",
    "        \n",
    "    for i in range(len(lstPrn)):\n",
    "        if num == lstPrn[i]:\n",
    "            break\n",
    "        if i == len(lstPrn)-1:\n",
    "            lstPrn.append(num)\n",
    "            \n",
    "print(lstPrn)"
   ]
  },
  {
   "cell_type": "code",
   "execution_count": null,
   "id": "3b1b13e1",
   "metadata": {},
   "outputs": [],
   "source": []
  }
 ],
 "metadata": {
  "kernelspec": {
   "display_name": "Python 3",
   "language": "python",
   "name": "python3"
  },
  "language_info": {
   "codemirror_mode": {
    "name": "ipython",
    "version": 3
   },
   "file_extension": ".py",
   "mimetype": "text/x-python",
   "name": "python",
   "nbconvert_exporter": "python",
   "pygments_lexer": "ipython3",
   "version": "3.9.5"
  }
 },
 "nbformat": 4,
 "nbformat_minor": 5
}
