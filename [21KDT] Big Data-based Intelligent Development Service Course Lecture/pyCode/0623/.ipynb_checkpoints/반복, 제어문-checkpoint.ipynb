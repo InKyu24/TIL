{
 "cells": [
  {
   "cell_type": "code",
   "execution_count": 63,
   "id": "bad41ef2",
   "metadata": {},
   "outputs": [
    {
     "name": "stdout",
     "output_type": "stream",
     "text": [
      "공백 입력 갯수: 8 건\n",
      "공백 입력 갯수: 8 건\n"
     ]
    }
   ],
   "source": [
    "txt='코로나19 탓에 손도 열심히 씻고, 마스크를 착용하고, 외출도 줄었다.'\n",
    "\n",
    "space = 0\n",
    "for letter in txt:\n",
    "    if letter == \" \":\n",
    "        space += 1\n",
    "print(f'공백 입력 갯수: {space} 건')\n",
    "print('공백 입력 갯수: ' + str(space) + ' 건')\n",
    "del txt, space, letter"
   ]
  },
  {
   "cell_type": "code",
   "execution_count": 64,
   "id": "5be3515b",
   "metadata": {},
   "outputs": [
    {
     "name": "stdout",
     "output_type": "stream",
     "text": [
      "5050\n"
     ]
    }
   ],
   "source": [
    "# 1~100까지의 합계\n",
    "\n",
    "tot = 0\n",
    "for n in range (101) :\n",
    "    tot += n\n",
    "print(tot)\n",
    "del tot, n"
   ]
  },
  {
   "cell_type": "code",
   "execution_count": 65,
   "id": "d3e29100",
   "metadata": {},
   "outputs": [
    {
     "name": "stdout",
     "output_type": "stream",
     "text": [
      "7\n"
     ]
    }
   ],
   "source": [
    "txt='바나나 좋아, 딸기 좋아 사과좋아 좋오아 좋아요 귤은 너무너무 좋아좋아좋아...'\n",
    "\n",
    "# txt에 있는 '좋아' 라는 단어는 몆번 나올까요?\n",
    "# for문과 if 구문을 사용해 작성\n",
    "\n",
    "like = 0\n",
    "for t in range(len(txt)):\n",
    "    if txt[t] == \"좋\":\n",
    "        if txt[t+1]== \"아\":\n",
    "            like += 1\n",
    "print(like)\n",
    "del like, txt"
   ]
  },
  {
   "cell_type": "code",
   "execution_count": 66,
   "id": "f1009c7a",
   "metadata": {},
   "outputs": [
    {
     "name": "stdout",
     "output_type": "stream",
     "text": [
      "7\n"
     ]
    }
   ],
   "source": [
    "txt='바나나 좋아, 딸기 좋아 사과좋아 좋오아 좋아요 귤은 너무너무 좋아좋아좋아...'\n",
    "\n",
    "like = 0\n",
    "for t in range(len(txt)):\n",
    "    if txt[t:t+2] == \"좋아\":\n",
    "        like += 1\n",
    "    if len(txt[t:t+2]) == 1:\n",
    "        break\n",
    "print(like)\n",
    "del like, txt, t"
   ]
  },
  {
   "cell_type": "code",
   "execution_count": 67,
   "id": "069e130f",
   "metadata": {},
   "outputs": [
    {
     "name": "stdout",
     "output_type": "stream",
     "text": [
      "7\n"
     ]
    }
   ],
   "source": [
    "txt='바나나 좋아, 딸기 좋아 사과좋아 좋오아 좋아요 귤은 너무너무 좋아좋아좋아...'\n",
    "\n",
    "like = 0\n",
    "for t in range(len(txt)-1):\n",
    "    if txt[t]+txt[t+1] == \"좋아\":\n",
    "        like += 1\n",
    "print(like)\n",
    "del like, txt, t\n"
   ]
  },
  {
   "cell_type": "code",
   "execution_count": 68,
   "id": "d2d7c3b6",
   "metadata": {},
   "outputs": [
    {
     "name": "stdout",
     "output_type": "stream",
     "text": [
      "7\n"
     ]
    }
   ],
   "source": [
    "txt='바나나 좋아, 딸기 좋아 사과좋아 좋오아 좋아요 귤은 너무너무 좋아좋아좋아...'\n",
    "\n",
    "like = 0\n",
    "for t in range(len(txt)):\n",
    "    if txt[t:t+2] == \"좋아\":\n",
    "        like += 1\n",
    "print(like)\n",
    "del like, txt"
   ]
  },
  {
   "cell_type": "code",
   "execution_count": 82,
   "id": "914bb858",
   "metadata": {},
   "outputs": [
    {
     "name": "stdout",
     "output_type": "stream",
     "text": [
      "7\n"
     ]
    }
   ],
   "source": [
    "txt='바나나 좋아, 딸기 좋아 사과좋아 좋오아 좋아요 귤은 너무너무 좋아좋아좋아...'\n",
    "\n",
    "like = 0\n",
    "tmp=''\n",
    "for t in txt:\n",
    "    tmp = tmp + t\n",
    "    if tmp[-2:] == '좋아':\n",
    "        like += 1\n",
    "print(like)\n",
    "del tmp, like, txt, t"
   ]
  },
  {
   "cell_type": "code",
   "execution_count": 87,
   "id": "5781f56f",
   "metadata": {},
   "outputs": [
    {
     "name": "stdout",
     "output_type": "stream",
     "text": [
      "찾을 단어를 입력하세요: 아\n",
      "8\n"
     ]
    }
   ],
   "source": [
    "txt='바나나 좋아, 딸기 좋아 사과좋아 좋오아 좋아요 귤은 너무너무 좋아좋아좋아...'\n",
    "\n",
    "단어 = input('찾을 단어를 입력하세요: ')\n",
    "글자수 = len(단어)\n",
    "cnt = 0\n",
    "\n",
    "for t in range(len(txt)-(글자수-1)):\n",
    "    if txt[t:t+글자수] == 단어:\n",
    "        cnt += 1\n",
    "print(cnt)\n",
    "del cnt, txt, t, 단어"
   ]
  },
  {
   "cell_type": "code",
   "execution_count": 91,
   "id": "7a40287b",
   "metadata": {},
   "outputs": [
    {
     "name": "stdout",
     "output_type": "stream",
     "text": [
      "찾을 단어 입력: 나\n",
      "나 단어 갯수: 2개\n"
     ]
    }
   ],
   "source": []
  },
  {
   "cell_type": "code",
   "execution_count": null,
   "id": "31469a7a",
   "metadata": {},
   "outputs": [],
   "source": []
  }
 ],
 "metadata": {
  "kernelspec": {
   "display_name": "Python 3",
   "language": "python",
   "name": "python3"
  },
  "language_info": {
   "codemirror_mode": {
    "name": "ipython",
    "version": 3
   },
   "file_extension": ".py",
   "mimetype": "text/x-python",
   "name": "python",
   "nbconvert_exporter": "python",
   "pygments_lexer": "ipython3",
   "version": "3.9.5"
  }
 },
 "nbformat": 4,
 "nbformat_minor": 5
}
