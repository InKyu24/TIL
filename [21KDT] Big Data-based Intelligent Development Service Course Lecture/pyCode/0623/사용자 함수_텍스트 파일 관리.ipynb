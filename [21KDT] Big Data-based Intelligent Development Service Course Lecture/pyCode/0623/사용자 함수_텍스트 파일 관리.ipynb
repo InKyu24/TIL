{
 "cells": [
  {
   "cell_type": "markdown",
   "id": "23179f97",
   "metadata": {},
   "source": [
    "### 사용자 함수\n",
    "- def로 시작\n",
    "- 기본형식: def 함수명(인수, ..):\n",
    "- 사용자 함수 => 실행형(non-fruitful)/return형(fruitful)\n",
    "- 함수호출: 함수명(인수 대입값, ...)\n",
    "- 함수는 함수를 호출하는 코드 이전에 실행되어야 한다 (변수를 먼저 정의하고 사용하는 것과 같은 이치)"
   ]
  },
  {
   "cell_type": "code",
   "execution_count": 151,
   "id": "51ba7c20",
   "metadata": {},
   "outputs": [],
   "source": [
    "def txt_print(name):\n",
    "    if type(name) == str:\n",
    "        print(f'{name}님 안녕하세요')\n",
    "    else:\n",
    "        print('문자만 출력 가능합니다.')\n",
    "        \n",
    "def txt_count(txt, tsc):\n",
    "    txtLen=len(tsc)\n",
    "    cnt = 0\n",
    "    \n",
    "    for i in range(len(txt)-(txtLen-1)):\n",
    "        if txt[i:i+txtLen] == tsc:\n",
    "            cnt += 1\n",
    "    \n",
    "    return cnt"
   ]
  },
  {
   "cell_type": "code",
   "execution_count": 4,
   "id": "df7ec105",
   "metadata": {},
   "outputs": [
    {
     "name": "stdout",
     "output_type": "stream",
     "text": [
      "홍길동님 안녕하세요\n"
     ]
    }
   ],
   "source": [
    "txt_print(\"홍길동\")"
   ]
  },
  {
   "cell_type": "code",
   "execution_count": 28,
   "id": "77e04bc8",
   "metadata": {},
   "outputs": [
    {
     "name": "stdout",
     "output_type": "stream",
     "text": [
      "찾을 단어 입력: ㅇ\n",
      "<ㅇ> 입력된 개수: 0 개\n"
     ]
    }
   ],
   "source": [
    "txt='''식물성 음식만 먹는 채식주의를 선호하는 사람들이 늘고 있다.\n",
    "채식이 건강에 좋다고 생각해서 이를 실천하는 사람들도 있지만,\n",
    "동물권을 존중해서 혹은 가축 사육으로 인한 환경 파괴 등의 문제로 채식을 하는 사람들도 있다.'''\n",
    "\n",
    "단어 = input('찾을 단어 입력: ')\n",
    "txtcnt = txt_count(txt, 단어)\n",
    "print(f'<{단어}> 입력된 개수: {txtcnt} 개')\n",
    "\n",
    "del txt, txtcnt, 단어"
   ]
  },
  {
   "cell_type": "code",
   "execution_count": 330,
   "id": "0c191552",
   "metadata": {},
   "outputs": [],
   "source": [
    "def User_split(txt, spl=\" \"):\n",
    "    txt=txt.replace('\\n','')\n",
    "    txt_list = []    \n",
    "    word=\"\"\n",
    "    a =0 \n",
    "    for i in range(len(txt)):\n",
    "        if txt[i:i+len(spl)] != spl:\n",
    "            word += txt[i]            \n",
    "        else:\n",
    "            txt_list.append(word)\n",
    "            word=spl[0]\n",
    "    if word != \"\":\n",
    "        txt_list.append(word)\n",
    "    return txt_list"
   ]
  },
  {
   "cell_type": "code",
   "execution_count": 337,
   "id": "774792a7",
   "metadata": {},
   "outputs": [
    {
     "data": {
      "text/plain": [
       "['식물성 음식만 먹는 채식주의를 선호하는 ',\n",
       " '사람들이 늘고 있다. 채식이 건강에 좋다고 생각해서 이를 실천하는 ',\n",
       " '사람들도 있지만, 동물권을 존중해서 혹은 가축 사육으로 인한 환경 파괴 등의 문제로 채식을 하는 ',\n",
       " '사람들도 있다.']"
      ]
     },
     "execution_count": 337,
     "metadata": {},
     "output_type": "execute_result"
    }
   ],
   "source": [
    "txt='''식물성 음식만 먹는 채식주의를 선호하는 사람들이 늘고 있다.\n",
    "채식이 건강에 좋다고 생각해서 이를 실천하는 사람들도 있지만,\n",
    "동물권을 존중해서 혹은 가축 사육으로 인한 환경 파괴 등의 문제로 채식을 하는 사람들도 있다.'''\n",
    "\n",
    "txt='''식물성 음식만 먹는 채식주의를 선호하는 사람들이 늘고 있다. 채식이 건강에 좋다고 생각해서 이를 실천하는 사람들도 있지만, 동물권을 존중해서 혹은 가축 사육으로 인한 환경 파괴 등의 문제로 채식을 하는 사람들도 있다.'''\n",
    "User_split(txt, \"사람들\")"
   ]
  },
  {
   "cell_type": "code",
   "execution_count": 395,
   "id": "9b35c6c9",
   "metadata": {},
   "outputs": [
    {
     "name": "stdout",
     "output_type": "stream",
     "text": [
      "[1, 2, 3, 5, 4, 6, 8, 9, 7]\n"
     ]
    }
   ],
   "source": [
    "lstData = [1,2,3,1,2,1,2,5,4,2,6,8,9,2,5,4,2,5,3,6,9,7]\n",
    "lstPrn = []\n",
    "\n",
    "for num in lstData:    \n",
    "    if len(lstPrn)==0:\n",
    "        lstPrn.append(num)\n",
    "        continue\n",
    "    cnt = 0\n",
    "    for pr in lstPrn:\n",
    "        if num == pr:\n",
    "            cnt = cnt+1            \n",
    "    if cnt == 0:\n",
    "        lstPrn.append(num)\n",
    "\n",
    "print(lstPrn)"
   ]
  },
  {
   "cell_type": "code",
   "execution_count": 377,
   "id": "3f1e1e7c",
   "metadata": {},
   "outputs": [
    {
     "name": "stdout",
     "output_type": "stream",
     "text": [
      "[1, 2, 3, 5, 4, 6, 8, 9, 7]\n"
     ]
    }
   ],
   "source": [
    "lstPrn=[]\n",
    "for num in lstData:\n",
    "    if len(lstPrn)==0:\n",
    "        lstPrn.append(num)\n",
    "        continue\n",
    "        \n",
    "    for i in range(len(lstPrn)):\n",
    "        if num == lstPrn[i]:\n",
    "            break\n",
    "        if i == len(lstPrn)-1:\n",
    "            lstPrn.append(num)\n",
    "            \n",
    "print(lstPrn)"
   ]
  },
  {
   "cell_type": "code",
   "execution_count": 613,
   "id": "1fcdb40a",
   "metadata": {},
   "outputs": [
    {
     "name": "stdout",
     "output_type": "stream",
     "text": [
      "로또번호: [23, 39, 13, 12, 44, 21] 보너스번호: [16]\n"
     ]
    }
   ],
   "source": [
    "import numpy as np\n",
    "lotto = []\n",
    "lotto.append(np.random.randint(1,46))\n",
    "\n",
    "for i in lotto:\n",
    "    num = np.random.randint(1,46)\n",
    "    if num not in lotto:\n",
    "        if len(lotto) < 7:\n",
    "            lotto.append(num)    \n",
    "    else:\n",
    "        for i in lotto:\n",
    "            num = np.random.randint(1,46)\n",
    "            if num not in lotto:\n",
    "                if len(lotto) < 7:\n",
    "                    lotto.append(num)\n",
    "                else:\n",
    "                    continue\n",
    "        \n",
    "if len(lotto) < 7:\n",
    "    print(\"로또 번호 생성 실패\")\n",
    "else:\n",
    "    print(\"로또번호:\", lotto[:6], \"보너스번호:\", lotto[-1:])"
   ]
  },
  {
   "cell_type": "code",
   "execution_count": 619,
   "id": "602944c1",
   "metadata": {},
   "outputs": [
    {
     "name": "stdout",
     "output_type": "stream",
     "text": [
      "Variable     Type        Data/Info\n",
      "----------------------------------\n",
      "User_split   function    <function User_split at 0x000001226050D160>\n",
      "a            int         26\n",
      "b            int         117\n",
      "cnt          int         1\n",
      "lotto        list        n=7\n",
      "lstData      list        n=22\n",
      "lstPrn       list        n=9\n",
      "np           module      <module 'numpy' from 'C:\\<...>ges\\\\numpy\\\\__init__.py'>\n",
      "txt          str         식물성 음식만 먹는 채식주의를 선호하는 사람들<...>파괴 등의 문제로 채식을 하는 사람들도 있다.\n",
      "txt_count    function    <function txt_count at 0x00000122600540D0>\n",
      "txt_print    function    <function txt_print at 0x0000012260CC18B0>\n"
     ]
    }
   ],
   "source": [
    "whos"
   ]
  },
  {
   "cell_type": "code",
   "execution_count": 618,
   "id": "a8d4acdf",
   "metadata": {},
   "outputs": [],
   "source": [
    "del pr, num, i"
   ]
  }
 ],
 "metadata": {
  "kernelspec": {
   "display_name": "Python 3",
   "language": "python",
   "name": "python3"
  },
  "language_info": {
   "codemirror_mode": {
    "name": "ipython",
    "version": 3
   },
   "file_extension": ".py",
   "mimetype": "text/x-python",
   "name": "python",
   "nbconvert_exporter": "python",
   "pygments_lexer": "ipython3",
   "version": "3.9.5"
  }
 },
 "nbformat": 4,
 "nbformat_minor": 5
}
