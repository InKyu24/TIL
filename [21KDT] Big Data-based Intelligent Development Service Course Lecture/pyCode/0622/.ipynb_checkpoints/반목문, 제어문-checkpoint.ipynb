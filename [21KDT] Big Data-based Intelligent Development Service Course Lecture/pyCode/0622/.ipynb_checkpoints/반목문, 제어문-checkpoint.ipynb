{
 "cells": [
  {
   "cell_type": "code",
   "execution_count": null,
   "id": "56300c77",
   "metadata": {},
   "outputs": [],
   "source": [
    "inName = ['홍길동', '박변수', '김수진', '허순이', '서정동']\n",
    "inAge = [33, 28, 49, 52, 54]"
   ]
  },
  {
   "cell_type": "code",
   "execution_count": null,
   "id": "6ec74dbb",
   "metadata": {},
   "outputs": [],
   "source": [
    "print(f'안녕하세요. {inName[0]}님')\n",
    "print(f'안녕하세요. {inName[1]}님')\n",
    "print(f'안녕하세요. {inName[2]}님')\n",
    "print(f'안녕하세요. {inName[3]}님')\n",
    "print(f'안녕하세요. {inName[4]}님')"
   ]
  },
  {
   "cell_type": "code",
   "execution_count": null,
   "id": "de9d5c7b",
   "metadata": {},
   "outputs": [],
   "source": [
    "for name in inName:\n",
    "    print(f'안녕하세요. {name}님')\n",
    "        \n",
    "print(name) # 서정동\n",
    "del name"
   ]
  },
  {
   "cell_type": "code",
   "execution_count": null,
   "id": "bd5aca82",
   "metadata": {
    "scrolled": true
   },
   "outputs": [],
   "source": [
    "for i in range(5):\n",
    "    print(f'안녕하세요. {inName[i]}님 {inAge[i]}')\n",
    "    \n",
    "print(inName[i]) # 서정동\n",
    "del i\n",
    "print(inName[i])"
   ]
  },
  {
   "cell_type": "code",
   "execution_count": 2,
   "id": "878aad5c",
   "metadata": {},
   "outputs": [],
   "source": [
    "from PIL import Image\n",
    "import os"
   ]
  },
  {
   "cell_type": "code",
   "execution_count": 3,
   "id": "3576f83d",
   "metadata": {},
   "outputs": [
    {
     "name": "stdout",
     "output_type": "stream",
     "text": [
      "['img1.jpg', 'img10.jpg', 'img11.jpg', 'img12.jpg', 'img13.jpg', 'img14.jpg', 'img15.jpg', 'img16.jpg', 'img17.jpg', 'img18.jpg', 'img19.jpg', 'img2.jpg', 'img20.jpg', 'img21.jpg', 'img22.jpg', 'img23.jpg', 'img24.jpg', 'img25.jpg', 'img26.jpg', 'img27.jpg', 'img28.jpg', 'img29.jpg', 'img3.jpg', 'img30.jpg', 'img4.jpg', 'img5.jpg', 'img6.jpg', 'img7.jpg', 'img8.jpg', 'img9.jpg', 'pic1.jpg', 'pic2.jpg', 'pic3.jpg']\n"
     ]
    }
   ],
   "source": [
    "fileDir = \"./picture/\"\n",
    "fileName=os.listdir(fileDir)\n",
    "print(fileName)"
   ]
  },
  {
   "cell_type": "code",
   "execution_count": null,
   "id": "fed0779a",
   "metadata": {},
   "outputs": [],
   "source": [
    "print(f'파일명: {fileName[0]}')"
   ]
  },
  {
   "cell_type": "code",
   "execution_count": null,
   "id": "cc9b76ba",
   "metadata": {},
   "outputs": [],
   "source": [
    "tmp = Image.open(fileDir+fileName[0])\n",
    "print(tmp.size)\n",
    "\n",
    "print(len(fileName))"
   ]
  },
  {
   "cell_type": "code",
   "execution_count": 28,
   "id": "64bff5fb",
   "metadata": {},
   "outputs": [
    {
     "name": "stdout",
     "output_type": "stream",
     "text": [
      "파일명: img1.jpg, 세로: 400, 세로: 400\n",
      "파일명: img10.jpg, 세로: 400, 세로: 400\n",
      "파일명: img11.jpg, 세로: 400, 세로: 400\n",
      "파일명: img12.jpg, 세로: 400, 세로: 400\n",
      "파일명: img13.jpg, 세로: 400, 세로: 400\n",
      "파일명: img14.jpg, 세로: 400, 세로: 400\n",
      "파일명: img15.jpg, 세로: 400, 세로: 400\n",
      "파일명: img16.jpg, 세로: 400, 세로: 400\n",
      "파일명: img17.jpg, 세로: 400, 세로: 400\n",
      "파일명: img18.jpg, 세로: 400, 세로: 400\n",
      "파일명: img19.jpg, 세로: 400, 세로: 400\n",
      "파일명: img2.jpg, 세로: 400, 세로: 400\n",
      "파일명: img20.jpg, 세로: 400, 세로: 400\n",
      "파일명: img21.jpg, 세로: 400, 세로: 400\n",
      "파일명: img22.jpg, 세로: 400, 세로: 400\n",
      "파일명: img23.jpg, 세로: 400, 세로: 400\n",
      "파일명: img24.jpg, 세로: 400, 세로: 400\n",
      "파일명: img25.jpg, 세로: 400, 세로: 400\n",
      "파일명: img26.jpg, 세로: 400, 세로: 400\n",
      "파일명: img27.jpg, 세로: 400, 세로: 400\n",
      "파일명: img28.jpg, 세로: 400, 세로: 400\n",
      "파일명: img29.jpg, 세로: 400, 세로: 400\n",
      "파일명: img3.jpg, 세로: 400, 세로: 400\n",
      "파일명: img30.jpg, 세로: 400, 세로: 400\n",
      "파일명: img4.jpg, 세로: 400, 세로: 400\n",
      "파일명: img5.jpg, 세로: 400, 세로: 400\n",
      "파일명: img6.jpg, 세로: 400, 세로: 400\n",
      "파일명: img7.jpg, 세로: 400, 세로: 400\n",
      "파일명: img8.jpg, 세로: 400, 세로: 400\n",
      "파일명: img9.jpg, 세로: 400, 세로: 400\n",
      "파일명: pic1.jpg, 세로: 271, 세로: 271\n",
      "파일명: pic2.jpg, 세로: 338, 세로: 338\n",
      "파일명: pic3.jpg, 세로: 183, 세로: 183\n"
     ]
    }
   ],
   "source": [
    "for i in range(len(fileName)):\n",
    "    tmp=Image.open(fileDir+fileName[i])\n",
    "    print(f'파일명: {fileName[i]}, 세로: {tmp.height}, 세로: {tmp.size[1]}')"
   ]
  },
  {
   "cell_type": "code",
   "execution_count": 30,
   "id": "99e0697e",
   "metadata": {},
   "outputs": [
    {
     "name": "stdout",
     "output_type": "stream",
     "text": [
      "파일명: img1.jpg, 가로: 377, 세로: 400\n",
      "파일명: img10.jpg, 가로: 599, 세로: 400\n",
      "파일명: img11.jpg, 가로: 411, 세로: 400\n",
      "파일명: img12.jpg, 가로: 356, 세로: 400\n",
      "파일명: img13.jpg, 가로: 623, 세로: 400\n",
      "파일명: img14.jpg, 가로: 533, 세로: 400\n",
      "파일명: img15.jpg, 가로: 511, 세로: 400\n",
      "파일명: img16.jpg, 가로: 333, 세로: 400\n",
      "파일명: img17.jpg, 가로: 533, 세로: 400\n",
      "파일명: img18.jpg, 가로: 603, 세로: 400\n",
      "파일명: img19.jpg, 가로: 600, 세로: 400\n",
      "파일명: img2.jpg, 가로: 433, 세로: 400\n",
      "파일명: img20.jpg, 가로: 534, 세로: 400\n",
      "파일명: img21.jpg, 가로: 519, 세로: 400\n",
      "파일명: img22.jpg, 가로: 300, 세로: 400\n",
      "파일명: img23.jpg, 가로: 534, 세로: 400\n",
      "파일명: img24.jpg, 가로: 522, 세로: 400\n",
      "파일명: img25.jpg, 가로: 534, 세로: 400\n",
      "파일명: img26.jpg, 가로: 500, 세로: 400\n",
      "파일명: img27.jpg, 가로: 640, 세로: 400\n",
      "파일명: img28.jpg, 가로: 533, 세로: 400\n",
      "파일명: img29.jpg, 가로: 641, 세로: 400\n",
      "파일명: img3.jpg, 가로: 564, 세로: 400\n",
      "파일명: img30.jpg, 가로: 300, 세로: 400\n",
      "파일명: img4.jpg, 가로: 533, 세로: 400\n",
      "파일명: img5.jpg, 가로: 537, 세로: 400\n",
      "파일명: img6.jpg, 가로: 533, 세로: 400\n",
      "파일명: img7.jpg, 가로: 510, 세로: 400\n",
      "파일명: img8.jpg, 가로: 554, 세로: 400\n",
      "파일명: img9.jpg, 가로: 533, 세로: 400\n",
      "파일명: pic1.jpg, 가로: 512, 세로: 271\n",
      "파일명: pic2.jpg, 가로: 630, 세로: 338\n",
      "파일명: pic3.jpg, 가로: 275, 세로: 183\n",
      "0.007924556732177734\n"
     ]
    }
   ],
   "source": [
    "tm1 = time.time()\n",
    "for fn in fileName:\n",
    "    tmp = Image.open(fileDir+fn)\n",
    "    print(f'파일명: {fn}, 가로: {tmp.size[0]}, 세로: {tmp.size[1]}')\n",
    "tm2 = time.time()\n",
    "print(tm2-tm1)"
   ]
  },
  {
   "cell_type": "code",
   "execution_count": 13,
   "id": "f0c06897",
   "metadata": {},
   "outputs": [],
   "source": [
    "import time"
   ]
  },
  {
   "cell_type": "code",
   "execution_count": 18,
   "id": "f43e1d53",
   "metadata": {},
   "outputs": [
    {
     "name": "stdout",
     "output_type": "stream",
     "text": [
      "<built-in function time>\n",
      "1624329158.443708\n"
     ]
    }
   ],
   "source": [
    "print(time.time)\n",
    "\n",
    "tm = time.time()\n",
    "print(tm)"
   ]
  },
  {
   "cell_type": "code",
   "execution_count": 29,
   "id": "954be3c3",
   "metadata": {},
   "outputs": [
    {
     "name": "stdout",
     "output_type": "stream",
     "text": [
      "파일명: img1.jpg, 가로: 377, 세로: 400\n",
      "파일명: img10.jpg, 가로: 599, 세로: 400\n",
      "파일명: img11.jpg, 가로: 411, 세로: 400\n",
      "파일명: img12.jpg, 가로: 356, 세로: 400\n",
      "파일명: img13.jpg, 가로: 623, 세로: 400\n",
      "파일명: img14.jpg, 가로: 533, 세로: 400\n",
      "파일명: img15.jpg, 가로: 511, 세로: 400\n",
      "파일명: img16.jpg, 가로: 333, 세로: 400\n",
      "파일명: img17.jpg, 가로: 533, 세로: 400\n",
      "파일명: img18.jpg, 가로: 603, 세로: 400\n",
      "파일명: img19.jpg, 가로: 600, 세로: 400\n",
      "파일명: img2.jpg, 가로: 433, 세로: 400\n",
      "파일명: img20.jpg, 가로: 534, 세로: 400\n",
      "파일명: img21.jpg, 가로: 519, 세로: 400\n",
      "파일명: img22.jpg, 가로: 300, 세로: 400\n",
      "파일명: img23.jpg, 가로: 534, 세로: 400\n",
      "파일명: img24.jpg, 가로: 522, 세로: 400\n",
      "파일명: img25.jpg, 가로: 534, 세로: 400\n",
      "파일명: img26.jpg, 가로: 500, 세로: 400\n",
      "파일명: img27.jpg, 가로: 640, 세로: 400\n",
      "파일명: img28.jpg, 가로: 533, 세로: 400\n",
      "파일명: img29.jpg, 가로: 641, 세로: 400\n",
      "파일명: img3.jpg, 가로: 564, 세로: 400\n",
      "파일명: img30.jpg, 가로: 300, 세로: 400\n",
      "파일명: img4.jpg, 가로: 533, 세로: 400\n",
      "파일명: img5.jpg, 가로: 537, 세로: 400\n",
      "파일명: img6.jpg, 가로: 533, 세로: 400\n",
      "파일명: img7.jpg, 가로: 510, 세로: 400\n",
      "파일명: img8.jpg, 가로: 554, 세로: 400\n",
      "파일명: img9.jpg, 가로: 533, 세로: 400\n",
      "파일명: pic1.jpg, 가로: 512, 세로: 271\n",
      "파일명: pic2.jpg, 가로: 630, 세로: 338\n",
      "파일명: pic3.jpg, 가로: 275, 세로: 183\n",
      "0.00797891616821289\n"
     ]
    }
   ],
   "source": [
    "tm1 = time.time()\n",
    "for i in range(len(fileName)):\n",
    "    tmp=Image.open(fileDir+fileName[i])\n",
    "    print(f'파일명: {fileName[i]}, 가로: {tmp.size[0]}, 세로: {tmp.size[1]}')\n",
    "tm2 = time.time()\n",
    "print(tm2-tm1)"
   ]
  },
  {
   "cell_type": "code",
   "execution_count": 31,
   "id": "7da91669",
   "metadata": {},
   "outputs": [
    {
     "name": "stdout",
     "output_type": "stream",
     "text": [
      "Variable   Type             Data/Info\n",
      "-------------------------------------\n",
      "Image      module           <module 'PIL.Image' from <...>packages\\\\PIL\\\\Image.py'>\n",
      "fileDir    str              ./picture/\n",
      "fileName   list             n=33\n",
      "fn         str              pic3.jpg\n",
      "i          int              32\n",
      "os         module           <module 'os' from 'C:\\\\Pr<...>envs\\\\multi\\\\lib\\\\os.py'>\n",
      "time       module           <module 'time' (built-in)>\n",
      "tm         float            1624329158.443708\n",
      "tm1        float            1624329564.491918\n",
      "tm2        float            1624329564.4998426\n",
      "tmp        JpegImageFile    <PIL.JpegImagePlugin.Jpeg<...>275x183 at 0x20959E75BE0>\n"
     ]
    }
   ],
   "source": [
    "whos"
   ]
  },
  {
   "cell_type": "code",
   "execution_count": 39,
   "id": "5dffb165",
   "metadata": {},
   "outputs": [
    {
     "name": "stdout",
     "output_type": "stream",
     "text": [
      "숫자를 입력하세요:0\n",
      "0이 입력되었습니다.\n"
     ]
    }
   ],
   "source": [
    "inData = int(input('숫자를 입력하세요:'))\n",
    "\n",
    "if inData > 0 :\n",
    "    print(\"0보다 큰 값입니다.\")\n",
    "elif inData<0 :\n",
    "    print(\"0보다 작은 값입니다.\")\n",
    "else :\n",
    "    print(\"0이 입력되었습니다.\")\n"
   ]
  },
  {
   "cell_type": "code",
   "execution_count": 40,
   "id": "65b92b55",
   "metadata": {},
   "outputs": [],
   "source": [
    "fileDir=\"./picture/\"\n",
    "fileName=os.listdir(fileDir)"
   ]
  },
  {
   "cell_type": "code",
   "execution_count": 41,
   "id": "357f2997",
   "metadata": {},
   "outputs": [
    {
     "name": "stdout",
     "output_type": "stream",
     "text": [
      "파일명: img1.jpg, 가로: 377, 세로: 400\n",
      "파일명: img10.jpg, 가로: 599, 세로: 400\n",
      "파일명: img11.jpg, 가로: 411, 세로: 400\n",
      "파일명: img12.jpg, 가로: 356, 세로: 400\n",
      "파일명: img13.jpg, 가로: 623, 세로: 400\n",
      "파일명: img14.jpg, 가로: 533, 세로: 400\n",
      "파일명: img15.jpg, 가로: 511, 세로: 400\n",
      "파일명: img16.jpg, 가로: 333, 세로: 400\n",
      "파일명: img17.jpg, 가로: 533, 세로: 400\n",
      "파일명: img18.jpg, 가로: 603, 세로: 400\n",
      "파일명: img19.jpg, 가로: 600, 세로: 400\n",
      "파일명: img2.jpg, 가로: 433, 세로: 400\n",
      "파일명: img20.jpg, 가로: 534, 세로: 400\n",
      "파일명: img21.jpg, 가로: 519, 세로: 400\n",
      "파일명: img22.jpg, 가로: 300, 세로: 400\n",
      "파일명: img23.jpg, 가로: 534, 세로: 400\n",
      "파일명: img24.jpg, 가로: 522, 세로: 400\n",
      "파일명: img25.jpg, 가로: 534, 세로: 400\n",
      "파일명: img26.jpg, 가로: 500, 세로: 400\n",
      "파일명: img27.jpg, 가로: 640, 세로: 400\n",
      "파일명: img28.jpg, 가로: 533, 세로: 400\n",
      "파일명: img29.jpg, 가로: 641, 세로: 400\n",
      "파일명: img3.jpg, 가로: 564, 세로: 400\n",
      "파일명: img30.jpg, 가로: 300, 세로: 400\n",
      "파일명: img4.jpg, 가로: 533, 세로: 400\n",
      "파일명: img5.jpg, 가로: 537, 세로: 400\n",
      "파일명: img6.jpg, 가로: 533, 세로: 400\n",
      "파일명: img7.jpg, 가로: 510, 세로: 400\n",
      "파일명: img8.jpg, 가로: 554, 세로: 400\n",
      "파일명: img9.jpg, 가로: 533, 세로: 400\n",
      "파일명: pic1.jpg, 가로: 512, 세로: 271\n",
      "파일명: pic2.jpg, 가로: 630, 세로: 338\n",
      "파일명: pic3.jpg, 가로: 275, 세로: 183\n"
     ]
    },
    {
     "ename": "UnidentifiedImageError",
     "evalue": "cannot identify image file './picture/연습.txt'",
     "output_type": "error",
     "traceback": [
      "\u001b[1;31m---------------------------------------------------------------------------\u001b[0m",
      "\u001b[1;31mUnidentifiedImageError\u001b[0m                    Traceback (most recent call last)",
      "\u001b[1;32m<ipython-input-41-09831511f824>\u001b[0m in \u001b[0;36m<module>\u001b[1;34m\u001b[0m\n\u001b[0;32m      1\u001b[0m \u001b[1;32mfor\u001b[0m \u001b[0mi\u001b[0m \u001b[1;32min\u001b[0m \u001b[0mrange\u001b[0m\u001b[1;33m(\u001b[0m\u001b[0mlen\u001b[0m\u001b[1;33m(\u001b[0m\u001b[0mfileName\u001b[0m\u001b[1;33m)\u001b[0m\u001b[1;33m)\u001b[0m\u001b[1;33m:\u001b[0m\u001b[1;33m\u001b[0m\u001b[1;33m\u001b[0m\u001b[0m\n\u001b[1;32m----> 2\u001b[1;33m     \u001b[0mtmp\u001b[0m\u001b[1;33m=\u001b[0m\u001b[0mImage\u001b[0m\u001b[1;33m.\u001b[0m\u001b[0mopen\u001b[0m\u001b[1;33m(\u001b[0m\u001b[0mfileDir\u001b[0m\u001b[1;33m+\u001b[0m\u001b[0mfileName\u001b[0m\u001b[1;33m[\u001b[0m\u001b[0mi\u001b[0m\u001b[1;33m]\u001b[0m\u001b[1;33m)\u001b[0m\u001b[1;33m\u001b[0m\u001b[1;33m\u001b[0m\u001b[0m\n\u001b[0m\u001b[0;32m      3\u001b[0m     \u001b[0mprint\u001b[0m\u001b[1;33m(\u001b[0m\u001b[1;34mf'파일명: {fileName[i]}, 가로: {tmp.size[0]}, 세로: {tmp.size[1]}'\u001b[0m\u001b[1;33m)\u001b[0m\u001b[1;33m\u001b[0m\u001b[1;33m\u001b[0m\u001b[0m\n",
      "\u001b[1;32mC:\\ProgramData\\Miniconda3\\envs\\multi\\lib\\site-packages\\PIL\\Image.py\u001b[0m in \u001b[0;36mopen\u001b[1;34m(fp, mode, formats)\u001b[0m\n\u001b[0;32m   2965\u001b[0m     \u001b[1;32mfor\u001b[0m \u001b[0mmessage\u001b[0m \u001b[1;32min\u001b[0m \u001b[0maccept_warnings\u001b[0m\u001b[1;33m:\u001b[0m\u001b[1;33m\u001b[0m\u001b[1;33m\u001b[0m\u001b[0m\n\u001b[0;32m   2966\u001b[0m         \u001b[0mwarnings\u001b[0m\u001b[1;33m.\u001b[0m\u001b[0mwarn\u001b[0m\u001b[1;33m(\u001b[0m\u001b[0mmessage\u001b[0m\u001b[1;33m)\u001b[0m\u001b[1;33m\u001b[0m\u001b[1;33m\u001b[0m\u001b[0m\n\u001b[1;32m-> 2967\u001b[1;33m     raise UnidentifiedImageError(\n\u001b[0m\u001b[0;32m   2968\u001b[0m         \u001b[1;34m\"cannot identify image file %r\"\u001b[0m \u001b[1;33m%\u001b[0m \u001b[1;33m(\u001b[0m\u001b[0mfilename\u001b[0m \u001b[1;32mif\u001b[0m \u001b[0mfilename\u001b[0m \u001b[1;32melse\u001b[0m \u001b[0mfp\u001b[0m\u001b[1;33m)\u001b[0m\u001b[1;33m\u001b[0m\u001b[1;33m\u001b[0m\u001b[0m\n\u001b[0;32m   2969\u001b[0m     )\n",
      "\u001b[1;31mUnidentifiedImageError\u001b[0m: cannot identify image file './picture/연습.txt'"
     ]
    }
   ],
   "source": [
    "for fn in fileName:\n",
    "    if fn[-3] == \"jpg\"\n",
    "    tmp=Image.open(fileDir+fileName)\n",
    "    print(f'파일명: {fileName}, 가로: {tmp.size[0]}, 세로: {tmp.size[1]}')\n",
    "    "
   ]
  },
  {
   "cell_type": "code",
   "execution_count": null,
   "id": "20182b27",
   "metadata": {},
   "outputs": [],
   "source": []
  },
  {
   "cell_type": "code",
   "execution_count": null,
   "id": "3063aaa0",
   "metadata": {},
   "outputs": [],
   "source": []
  }
 ],
 "metadata": {
  "kernelspec": {
   "display_name": "Python 3",
   "language": "python",
   "name": "python3"
  },
  "language_info": {
   "codemirror_mode": {
    "name": "ipython",
    "version": 3
   },
   "file_extension": ".py",
   "mimetype": "text/x-python",
   "name": "python",
   "nbconvert_exporter": "python",
   "pygments_lexer": "ipython3",
   "version": "3.9.5"
  }
 },
 "nbformat": 4,
 "nbformat_minor": 5
}
