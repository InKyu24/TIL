{
 "cells": [
  {
   "cell_type": "code",
   "execution_count": null,
   "id": "95334fe4",
   "metadata": {},
   "outputs": [],
   "source": [
    "inName = ['홍길동', '박변수', '김수진', '허순이', '서정동']\n",
    "inAge = [33, 28, 49, 52, 54]"
   ]
  },
  {
   "cell_type": "code",
   "execution_count": null,
   "id": "bd6d2588",
   "metadata": {},
   "outputs": [],
   "source": [
    "print(f'안녕하세요. {inName[0]}님')\n",
    "print(f'안녕하세요. {inName[1]}님')\n",
    "print(f'안녕하세요. {inName[2]}님')\n",
    "print(f'안녕하세요. {inName[3]}님')\n",
    "print(f'안녕하세요. {inName[4]}님')"
   ]
  },
  {
   "cell_type": "code",
   "execution_count": null,
   "id": "c058e25e",
   "metadata": {},
   "outputs": [],
   "source": [
    "for name in inName:\n",
    "    print(f'안녕하세요. {name}님')\n",
    "        \n",
    "print(name) # 서정동\n",
    "del name"
   ]
  },
  {
   "cell_type": "code",
   "execution_count": null,
   "id": "f041a948",
   "metadata": {
    "scrolled": true
   },
   "outputs": [],
   "source": [
    "for i in range(5):\n",
    "    print(f'안녕하세요. {inName[i]}님 {inAge[i]}')\n",
    "    \n",
    "print(inName[i]) # 서정동\n",
    "del i\n",
    "print(inName[i])"
   ]
  },
  {
   "cell_type": "code",
   "execution_count": 2,
   "id": "f0e478b5",
   "metadata": {},
   "outputs": [],
   "source": [
    "from PIL import Image\n",
    "import os"
   ]
  },
  {
   "cell_type": "code",
   "execution_count": 3,
   "id": "161a3086",
   "metadata": {},
   "outputs": [
    {
     "name": "stdout",
     "output_type": "stream",
     "text": [
      "['img1.jpg', 'img10.jpg', 'img11.jpg', 'img12.jpg', 'img13.jpg', 'img14.jpg', 'img15.jpg', 'img16.jpg', 'img17.jpg', 'img18.jpg', 'img19.jpg', 'img2.jpg', 'img20.jpg', 'img21.jpg', 'img22.jpg', 'img23.jpg', 'img24.jpg', 'img25.jpg', 'img26.jpg', 'img27.jpg', 'img28.jpg', 'img29.jpg', 'img3.jpg', 'img30.jpg', 'img4.jpg', 'img5.jpg', 'img6.jpg', 'img7.jpg', 'img8.jpg', 'img9.jpg', 'pic1.jpg', 'pic2.jpg', 'pic3.jpg']\n"
     ]
    }
   ],
   "source": [
    "fileDir = \"./picture/\"\n",
    "fileName=os.listdir(fileDir)\n",
    "print(fileName)"
   ]
  },
  {
   "cell_type": "code",
   "execution_count": null,
   "id": "6182413c",
   "metadata": {},
   "outputs": [],
   "source": [
    "print(f'파일명: {fileName[0]}')"
   ]
  },
  {
   "cell_type": "code",
   "execution_count": null,
   "id": "adcbd3c4",
   "metadata": {},
   "outputs": [],
   "source": [
    "tmp = Image.open(fileDir+fileName[0])\n",
    "print(tmp.size)\n",
    "\n",
    "print(len(fileName))"
   ]
  },
  {
   "cell_type": "code",
   "execution_count": 28,
   "id": "767a45a9",
   "metadata": {},
   "outputs": [
    {
     "name": "stdout",
     "output_type": "stream",
     "text": [
      "파일명: img1.jpg, 세로: 400, 세로: 400\n",
      "파일명: img10.jpg, 세로: 400, 세로: 400\n",
      "파일명: img11.jpg, 세로: 400, 세로: 400\n",
      "파일명: img12.jpg, 세로: 400, 세로: 400\n",
      "파일명: img13.jpg, 세로: 400, 세로: 400\n",
      "파일명: img14.jpg, 세로: 400, 세로: 400\n",
      "파일명: img15.jpg, 세로: 400, 세로: 400\n",
      "파일명: img16.jpg, 세로: 400, 세로: 400\n",
      "파일명: img17.jpg, 세로: 400, 세로: 400\n",
      "파일명: img18.jpg, 세로: 400, 세로: 400\n",
      "파일명: img19.jpg, 세로: 400, 세로: 400\n",
      "파일명: img2.jpg, 세로: 400, 세로: 400\n",
      "파일명: img20.jpg, 세로: 400, 세로: 400\n",
      "파일명: img21.jpg, 세로: 400, 세로: 400\n",
      "파일명: img22.jpg, 세로: 400, 세로: 400\n",
      "파일명: img23.jpg, 세로: 400, 세로: 400\n",
      "파일명: img24.jpg, 세로: 400, 세로: 400\n",
      "파일명: img25.jpg, 세로: 400, 세로: 400\n",
      "파일명: img26.jpg, 세로: 400, 세로: 400\n",
      "파일명: img27.jpg, 세로: 400, 세로: 400\n",
      "파일명: img28.jpg, 세로: 400, 세로: 400\n",
      "파일명: img29.jpg, 세로: 400, 세로: 400\n",
      "파일명: img3.jpg, 세로: 400, 세로: 400\n",
      "파일명: img30.jpg, 세로: 400, 세로: 400\n",
      "파일명: img4.jpg, 세로: 400, 세로: 400\n",
      "파일명: img5.jpg, 세로: 400, 세로: 400\n",
      "파일명: img6.jpg, 세로: 400, 세로: 400\n",
      "파일명: img7.jpg, 세로: 400, 세로: 400\n",
      "파일명: img8.jpg, 세로: 400, 세로: 400\n",
      "파일명: img9.jpg, 세로: 400, 세로: 400\n",
      "파일명: pic1.jpg, 세로: 271, 세로: 271\n",
      "파일명: pic2.jpg, 세로: 338, 세로: 338\n",
      "파일명: pic3.jpg, 세로: 183, 세로: 183\n"
     ]
    }
   ],
   "source": [
    "for i in range(len(fileName)):\n",
    "    tmp=Image.open(fileDir+fileName[i])\n",
    "    print(f'파일명: {fileName[i]}, 세로: {tmp.height}, 세로: {tmp.size[1]}')"
   ]
  },
  {
   "cell_type": "code",
   "execution_count": 30,
   "id": "1208515c",
   "metadata": {},
   "outputs": [
    {
     "name": "stdout",
     "output_type": "stream",
     "text": [
      "파일명: img1.jpg, 가로: 377, 세로: 400\n",
      "파일명: img10.jpg, 가로: 599, 세로: 400\n",
      "파일명: img11.jpg, 가로: 411, 세로: 400\n",
      "파일명: img12.jpg, 가로: 356, 세로: 400\n",
      "파일명: img13.jpg, 가로: 623, 세로: 400\n",
      "파일명: img14.jpg, 가로: 533, 세로: 400\n",
      "파일명: img15.jpg, 가로: 511, 세로: 400\n",
      "파일명: img16.jpg, 가로: 333, 세로: 400\n",
      "파일명: img17.jpg, 가로: 533, 세로: 400\n",
      "파일명: img18.jpg, 가로: 603, 세로: 400\n",
      "파일명: img19.jpg, 가로: 600, 세로: 400\n",
      "파일명: img2.jpg, 가로: 433, 세로: 400\n",
      "파일명: img20.jpg, 가로: 534, 세로: 400\n",
      "파일명: img21.jpg, 가로: 519, 세로: 400\n",
      "파일명: img22.jpg, 가로: 300, 세로: 400\n",
      "파일명: img23.jpg, 가로: 534, 세로: 400\n",
      "파일명: img24.jpg, 가로: 522, 세로: 400\n",
      "파일명: img25.jpg, 가로: 534, 세로: 400\n",
      "파일명: img26.jpg, 가로: 500, 세로: 400\n",
      "파일명: img27.jpg, 가로: 640, 세로: 400\n",
      "파일명: img28.jpg, 가로: 533, 세로: 400\n",
      "파일명: img29.jpg, 가로: 641, 세로: 400\n",
      "파일명: img3.jpg, 가로: 564, 세로: 400\n",
      "파일명: img30.jpg, 가로: 300, 세로: 400\n",
      "파일명: img4.jpg, 가로: 533, 세로: 400\n",
      "파일명: img5.jpg, 가로: 537, 세로: 400\n",
      "파일명: img6.jpg, 가로: 533, 세로: 400\n",
      "파일명: img7.jpg, 가로: 510, 세로: 400\n",
      "파일명: img8.jpg, 가로: 554, 세로: 400\n",
      "파일명: img9.jpg, 가로: 533, 세로: 400\n",
      "파일명: pic1.jpg, 가로: 512, 세로: 271\n",
      "파일명: pic2.jpg, 가로: 630, 세로: 338\n",
      "파일명: pic3.jpg, 가로: 275, 세로: 183\n",
      "0.007924556732177734\n"
     ]
    }
   ],
   "source": [
    "tm1 = time.time()\n",
    "for fn in fileName:\n",
    "    tmp = Image.open(fileDir+fn)\n",
    "    print(f'파일명: {fn}, 가로: {tmp.size[0]}, 세로: {tmp.size[1]}')\n",
    "tm2 = time.time()\n",
    "print(tm2-tm1)"
   ]
  },
  {
   "cell_type": "code",
   "execution_count": 13,
   "id": "2b9b0491",
   "metadata": {},
   "outputs": [],
   "source": [
    "import time"
   ]
  },
  {
   "cell_type": "code",
   "execution_count": 18,
   "id": "e967555b",
   "metadata": {},
   "outputs": [
    {
     "name": "stdout",
     "output_type": "stream",
     "text": [
      "<built-in function time>\n",
      "1624329158.443708\n"
     ]
    }
   ],
   "source": [
    "print(time.time)\n",
    "\n",
    "tm = time.time()\n",
    "print(tm)"
   ]
  },
  {
   "cell_type": "code",
   "execution_count": 29,
   "id": "6d419a57",
   "metadata": {},
   "outputs": [
    {
     "name": "stdout",
     "output_type": "stream",
     "text": [
      "파일명: img1.jpg, 가로: 377, 세로: 400\n",
      "파일명: img10.jpg, 가로: 599, 세로: 400\n",
      "파일명: img11.jpg, 가로: 411, 세로: 400\n",
      "파일명: img12.jpg, 가로: 356, 세로: 400\n",
      "파일명: img13.jpg, 가로: 623, 세로: 400\n",
      "파일명: img14.jpg, 가로: 533, 세로: 400\n",
      "파일명: img15.jpg, 가로: 511, 세로: 400\n",
      "파일명: img16.jpg, 가로: 333, 세로: 400\n",
      "파일명: img17.jpg, 가로: 533, 세로: 400\n",
      "파일명: img18.jpg, 가로: 603, 세로: 400\n",
      "파일명: img19.jpg, 가로: 600, 세로: 400\n",
      "파일명: img2.jpg, 가로: 433, 세로: 400\n",
      "파일명: img20.jpg, 가로: 534, 세로: 400\n",
      "파일명: img21.jpg, 가로: 519, 세로: 400\n",
      "파일명: img22.jpg, 가로: 300, 세로: 400\n",
      "파일명: img23.jpg, 가로: 534, 세로: 400\n",
      "파일명: img24.jpg, 가로: 522, 세로: 400\n",
      "파일명: img25.jpg, 가로: 534, 세로: 400\n",
      "파일명: img26.jpg, 가로: 500, 세로: 400\n",
      "파일명: img27.jpg, 가로: 640, 세로: 400\n",
      "파일명: img28.jpg, 가로: 533, 세로: 400\n",
      "파일명: img29.jpg, 가로: 641, 세로: 400\n",
      "파일명: img3.jpg, 가로: 564, 세로: 400\n",
      "파일명: img30.jpg, 가로: 300, 세로: 400\n",
      "파일명: img4.jpg, 가로: 533, 세로: 400\n",
      "파일명: img5.jpg, 가로: 537, 세로: 400\n",
      "파일명: img6.jpg, 가로: 533, 세로: 400\n",
      "파일명: img7.jpg, 가로: 510, 세로: 400\n",
      "파일명: img8.jpg, 가로: 554, 세로: 400\n",
      "파일명: img9.jpg, 가로: 533, 세로: 400\n",
      "파일명: pic1.jpg, 가로: 512, 세로: 271\n",
      "파일명: pic2.jpg, 가로: 630, 세로: 338\n",
      "파일명: pic3.jpg, 가로: 275, 세로: 183\n",
      "0.00797891616821289\n"
     ]
    }
   ],
   "source": [
    "tm1 = time.time()\n",
    "for i in range(len(fileName)):\n",
    "    tmp=Image.open(fileDir+fileName[i])\n",
    "    print(f'파일명: {fileName[i]}, 가로: {tmp.size[0]}, 세로: {tmp.size[1]}')\n",
    "tm2 = time.time()\n",
    "print(tm2-tm1)"
   ]
  },
  {
   "cell_type": "code",
   "execution_count": 31,
   "id": "e86ed500",
   "metadata": {},
   "outputs": [
    {
     "name": "stdout",
     "output_type": "stream",
     "text": [
      "Variable   Type             Data/Info\n",
      "-------------------------------------\n",
      "Image      module           <module 'PIL.Image' from <...>packages\\\\PIL\\\\Image.py'>\n",
      "fileDir    str              ./picture/\n",
      "fileName   list             n=33\n",
      "fn         str              pic3.jpg\n",
      "i          int              32\n",
      "os         module           <module 'os' from 'C:\\\\Pr<...>envs\\\\multi\\\\lib\\\\os.py'>\n",
      "time       module           <module 'time' (built-in)>\n",
      "tm         float            1624329158.443708\n",
      "tm1        float            1624329564.491918\n",
      "tm2        float            1624329564.4998426\n",
      "tmp        JpegImageFile    <PIL.JpegImagePlugin.Jpeg<...>275x183 at 0x20959E75BE0>\n"
     ]
    }
   ],
   "source": [
    "whos"
   ]
  },
  {
   "cell_type": "code",
   "execution_count": 39,
   "id": "083c2316",
   "metadata": {},
   "outputs": [
    {
     "name": "stdout",
     "output_type": "stream",
     "text": [
      "숫자를 입력하세요:0\n",
      "0이 입력되었습니다.\n"
     ]
    }
   ],
   "source": [
    "inData = int(input('숫자를 입력하세요:'))\n",
    "\n",
    "if inData > 0 :\n",
    "    print(\"0보다 큰 값입니다.\")\n",
    "elif inData<0 :\n",
    "    print(\"0보다 작은 값입니다.\")\n",
    "else :\n",
    "    print(\"0이 입력되었습니다.\")\n"
   ]
  },
  {
   "cell_type": "code",
   "execution_count": 135,
   "id": "8751777b",
   "metadata": {},
   "outputs": [],
   "source": [
    "fileDir=\"./picture/\"\n",
    "fileName=os.listdir(fileDir)"
   ]
  },
  {
   "cell_type": "code",
   "execution_count": null,
   "id": "e4193252",
   "metadata": {},
   "outputs": [],
   "source": []
  },
  {
   "cell_type": "code",
   "execution_count": 119,
   "id": "e15b1b0f",
   "metadata": {},
   "outputs": [
    {
     "name": "stdout",
     "output_type": "stream",
     "text": [
      "파일명: img1.jpg, 가로: 377, 세로: 400\n",
      "파일명: img10.jpg, 가로: 599, 세로: 400\n",
      "파일명: img11.jpg, 가로: 411, 세로: 400\n",
      "파일명: img12.jpg, 가로: 356, 세로: 400\n",
      "파일명: img13.jpg, 가로: 623, 세로: 400\n",
      "파일명: img14.jpg, 가로: 533, 세로: 400\n",
      "파일명: img15.jpg, 가로: 511, 세로: 400\n",
      "파일명: img16.jpg, 가로: 333, 세로: 400\n",
      "파일명: img17.jpg, 가로: 533, 세로: 400\n",
      "파일명: img18.jpg, 가로: 603, 세로: 400\n",
      "파일명: img19.jpg, 가로: 600, 세로: 400\n",
      "파일명: img2.jpg, 가로: 433, 세로: 400\n",
      "파일명: img20.jpg, 가로: 534, 세로: 400\n",
      "파일명: img21.jpg, 가로: 519, 세로: 400\n",
      "파일명: img22.jpg, 가로: 300, 세로: 400\n",
      "파일명: img23.jpg, 가로: 534, 세로: 400\n",
      "파일명: img24.jpg, 가로: 522, 세로: 400\n",
      "파일명: img25.jpg, 가로: 534, 세로: 400\n",
      "파일명: img26.jpg, 가로: 500, 세로: 400\n",
      "파일명: img27.jpg, 가로: 640, 세로: 400\n",
      "파일명: img28.jpg, 가로: 533, 세로: 400\n",
      "파일명: img29.jpg, 가로: 641, 세로: 400\n",
      "파일명: img3.jpg, 가로: 564, 세로: 400\n",
      "파일명: img30.jpg, 가로: 300, 세로: 400\n",
      "파일명: img4.jpg, 가로: 533, 세로: 400\n",
      "파일명: img5.jpg, 가로: 537, 세로: 400\n",
      "파일명: img6.jpg, 가로: 533, 세로: 400\n",
      "파일명: img7.jpg, 가로: 510, 세로: 400\n",
      "파일명: img8.jpg, 가로: 554, 세로: 400\n",
      "파일명: img9.jpg, 가로: 533, 세로: 400\n",
      "파일명: pic1.jpg, 가로: 512, 세로: 271\n",
      "파일명: pic2.jpg, 가로: 630, 세로: 338\n",
      "파일명: pic3.jpg, 가로: 275, 세로: 183\n"
     ]
    }
   ],
   "source": [
    "for fn in fileName:\n",
    "    if fn[-3:] == \"jpg\":\n",
    "        tmp=Image.open(fileDir+fn)\n",
    "        print(f'파일명: {fn}, 가로: {tmp.size[0]}, 세로: {tmp.size[1]}')\n",
    "    "
   ]
  },
  {
   "cell_type": "code",
   "execution_count": 137,
   "id": "1c9fe4f5",
   "metadata": {},
   "outputs": [],
   "source": [
    "fileDir=\"./images/\"\n",
    "fileName=os.listdir(fileDir)\n",
    "\n",
    "for fn in fileName:\n",
    "    if fn[-3:] == \"jpg\":\n",
    "        tmp=Image.open(fileDir+fn)\n",
    "        if fn[:3] == \"강아지\":\n",
    "            tmp.save(fileDir+\"강아지/\"+fn)\n",
    "        elif fn[:3] == \"고양이\":\n",
    "            tmp.save(fileDir+\"고양이/\"+fn)"
   ]
  },
  {
   "cell_type": "code",
   "execution_count": 133,
   "id": "5d19b44f",
   "metadata": {},
   "outputs": [],
   "source": [
    "fileDir=\"./images/\"\n",
    "fileName=os.listdir(fileDir)\n",
    "\n",
    "for fn in fileName:\n",
    "    if fn[-3:] == \"jpg\":\n",
    "        tmp=Image.open(fileDir+fn)\n",
    "    else:\n",
    "        continue\n",
    "    \n",
    "    if fn[:3] == \"강아지\":\n",
    "        tmp.save(fileDir+\"강아지/\"+fn)\n",
    "    elif fn[:3] == \"고양이\":\n",
    "        tmp.save(fileDir+\"고양이/\"+fn)"
   ]
  },
  {
   "cell_type": "code",
   "execution_count": 138,
   "id": "f22b5bcb",
   "metadata": {},
   "outputs": [],
   "source": [
    "tmp.show()"
   ]
  },
  {
   "cell_type": "code",
   "execution_count": 155,
   "id": "654b4cca",
   "metadata": {},
   "outputs": [
    {
     "name": "stdout",
     "output_type": "stream",
     "text": [
      "['img25.jpg', 'img26.jpg', 'img27.jpg', 'img28.jpg', 'img29.jpg', 'img30.jpg', 'pic1.jpg', 'pic2.jpg', 'pic3.jpg', '강아지', '강아지1.jpg', '강아지10.jpg', '강아지2.jpg', '강아지3.jpg', '강아지4.jpg', '강아지5.jpg', '강아지6.jpg', '강아지7.jpg', '강아지8.jpg', '강아지9.jpg', '고양이', '고양이1.jpg', '고양이2.jpg', '고양이3.jpg', '고양이4.jpg', '고양이5.jpg', '고양이6.jpg', '연습.txt']\n",
      "파일명 img25 , 확장자 jpg\n",
      "파일명 img26 , 확장자 jpg\n",
      "파일명 img27 , 확장자 jpg\n",
      "파일명 img28 , 확장자 jpg\n",
      "파일명 img29 , 확장자 jpg\n",
      "파일명 img30 , 확장자 jpg\n",
      "파일명 pic1 , 확장자 jpg\n",
      "파일명 pic2 , 확장자 jpg\n",
      "파일명 pic3 , 확장자 jpg\n",
      "파일명 강아지1 , 확장자 jpg\n",
      "파일명 강아지10 , 확장자 jpg\n",
      "파일명 강아지2 , 확장자 jpg\n",
      "파일명 강아지3 , 확장자 jpg\n",
      "파일명 강아지4 , 확장자 jpg\n",
      "파일명 강아지5 , 확장자 jpg\n",
      "파일명 강아지6 , 확장자 jpg\n",
      "파일명 강아지7 , 확장자 jpg\n",
      "파일명 강아지8 , 확장자 jpg\n",
      "파일명 강아지9 , 확장자 jpg\n",
      "파일명 고양이1 , 확장자 jpg\n",
      "파일명 고양이2 , 확장자 jpg\n",
      "파일명 고양이3 , 확장자 jpg\n",
      "파일명 고양이4 , 확장자 jpg\n",
      "파일명 고양이5 , 확장자 jpg\n",
      "파일명 고양이6 , 확장자 jpg\n",
      "파일명 연습 , 확장자 txt\n"
     ]
    }
   ],
   "source": [
    "from PIL import Image\n",
    "import os\n",
    "\n",
    "fileDir = \"./images/\"\n",
    "fileName = os.listdir(fileDir)\n",
    "print(fileName)\n",
    "\n",
    "for fn in fileName:\n",
    "    fns = fn.split(\".\")\n",
    "    if len(fns) == 1 :\n",
    "        continue\n",
    "    else :\n",
    "        print(\"파일명\", fns[0], \", 확장자\", fns[1])    \n",
    "#     if fns[0] == \"jpg\":\n",
    "#         tmp=Image.open(fileDir+fn)\n",
    "#         if fns[1] == \"강아지\":\n",
    "#             tmp.save(fileDir+\"강아지/\"+fn)\n",
    "#         elif fns[1] == \"고양이\":\n",
    "#             tmp.save(fileDir+\"고양이/\"+fn)"
   ]
  },
  {
   "cell_type": "code",
   "execution_count": null,
   "id": "643d3ebd",
   "metadata": {},
   "outputs": [],
   "source": []
  },
  {
   "cell_type": "code",
   "execution_count": null,
   "id": "c0ffd937",
   "metadata": {},
   "outputs": [],
   "source": []
  },
  {
   "cell_type": "code",
   "execution_count": null,
   "id": "d71fc0dd",
   "metadata": {},
   "outputs": [],
   "source": []
  },
  {
   "cell_type": "code",
   "execution_count": null,
   "id": "dc9ccb80",
   "metadata": {},
   "outputs": [],
   "source": []
  },
  {
   "cell_type": "code",
   "execution_count": null,
   "id": "5136891b",
   "metadata": {},
   "outputs": [],
   "source": []
  },
  {
   "cell_type": "code",
   "execution_count": null,
   "id": "37fb4813",
   "metadata": {},
   "outputs": [],
   "source": []
  }
 ],
 "metadata": {
  "kernelspec": {
   "display_name": "Python 3",
   "language": "python",
   "name": "python3"
  },
  "language_info": {
   "codemirror_mode": {
    "name": "ipython",
    "version": 3
   },
   "file_extension": ".py",
   "mimetype": "text/x-python",
   "name": "python",
   "nbconvert_exporter": "python",
   "pygments_lexer": "ipython3",
   "version": "3.9.5"
  }
 },
 "nbformat": 4,
 "nbformat_minor": 5
}
