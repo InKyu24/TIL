{
 "cells": [
  {
   "cell_type": "markdown",
   "id": "7b53056d",
   "metadata": {},
   "source": [
    "### 모듈 설치 및 연결\n"
   ]
  },
  {
   "cell_type": "code",
   "execution_count": 6,
   "id": "31a97f91",
   "metadata": {},
   "outputs": [],
   "source": [
    "import pandas"
   ]
  },
  {
   "cell_type": "code",
   "execution_count": 7,
   "id": "c798bfa7",
   "metadata": {
    "scrolled": true
   },
   "outputs": [
    {
     "name": "stdout",
     "output_type": "stream",
     "text": [
      "Requirement already satisfied: pandas in c:\\programdata\\miniconda3\\envs\\multi\\lib\\site-packages (1.2.4)\n",
      "Requirement already satisfied: numpy>=1.16.5 in c:\\programdata\\miniconda3\\envs\\multi\\lib\\site-packages (from pandas) (1.20.3)\n",
      "Requirement already satisfied: python-dateutil>=2.7.3 in c:\\programdata\\miniconda3\\envs\\multi\\lib\\site-packages (from pandas) (2.8.1)\n",
      "Requirement already satisfied: pytz>=2017.3 in c:\\programdata\\miniconda3\\envs\\multi\\lib\\site-packages (from pandas) (2021.1)\n",
      "Requirement already satisfied: six>=1.5 in c:\\programdata\\miniconda3\\envs\\multi\\lib\\site-packages (from python-dateutil>=2.7.3->pandas) (1.16.0)\n"
     ]
    }
   ],
   "source": [
    "!pip install pandas"
   ]
  },
  {
   "cell_type": "code",
   "execution_count": 11,
   "id": "820ccafe",
   "metadata": {},
   "outputs": [
    {
     "name": "stdout",
     "output_type": "stream",
     "text": [
      "(512, 271)\n"
     ]
    }
   ],
   "source": [
    "from PIL import Image\n",
    "\n",
    "tmp = Image.open('./data/pic1.jpg')\n",
    "print(tmp.size)"
   ]
  },
  {
   "cell_type": "code",
   "execution_count": 13,
   "id": "4a31435a",
   "metadata": {},
   "outputs": [
    {
     "name": "stdout",
     "output_type": "stream",
     "text": [
      "['False', 'None', 'True', '__peg_parser__', 'and', 'as', 'assert', 'async', 'await', 'break', 'class', 'continue', 'def', 'del', 'elif', 'else', 'except', 'finally', 'for', 'from', 'global', 'if', 'import', 'in', 'is', 'lambda', 'nonlocal', 'not', 'or', 'pass', 'raise', 'return', 'try', 'while', 'with', 'yield']\n"
     ]
    }
   ],
   "source": [
    "import keyword as kwd\n",
    "\n",
    "kwlist=kwd.kwlist\n",
    "print(kwlist)"
   ]
  },
  {
   "cell_type": "code",
   "execution_count": 15,
   "id": "e207b081",
   "metadata": {},
   "outputs": [
    {
     "name": "stdout",
     "output_type": "stream",
     "text": [
      "파이썬 문자열 데이터12345\n"
     ]
    }
   ],
   "source": [
    "str1 = \"Python is Very Powerful\"\n",
    "str2 = \"파이썬 문자열 데이터\"\n",
    "str3 = \"12345\"\n",
    "\n",
    "print(str2 + str3) # 문자 + 문자 => 연결 연산"
   ]
  },
  {
   "cell_type": "code",
   "execution_count": 30,
   "id": "2b5b9595",
   "metadata": {},
   "outputs": [
    {
     "name": "stdout",
     "output_type": "stream",
     "text": [
      "Powerful\n"
     ]
    }
   ],
   "source": [
    "print(str1[-8:])"
   ]
  },
  {
   "cell_type": "code",
   "execution_count": 31,
   "id": "91da94de",
   "metadata": {},
   "outputs": [
    {
     "data": {
      "text/plain": [
       "['파이썬', '문자열', '데이터']"
      ]
     },
     "execution_count": 31,
     "metadata": {},
     "output_type": "execute_result"
    }
   ],
   "source": [
    "str2.split()"
   ]
  },
  {
   "cell_type": "code",
   "execution_count": 33,
   "id": "fb980b63",
   "metadata": {},
   "outputs": [
    {
     "name": "stdout",
     "output_type": "stream",
     "text": [
      "파이썬 문자열 데이터\n"
     ]
    }
   ],
   "source": [
    "print(str2)"
   ]
  },
  {
   "cell_type": "code",
   "execution_count": 35,
   "id": "3c867806",
   "metadata": {},
   "outputs": [
    {
     "name": "stdout",
     "output_type": "stream",
     "text": [
      "<class 'list'> <class 'list'>\n"
     ]
    }
   ],
   "source": [
    "lst1 = [10,20,30,'파이썬',\"삼성멀티캠\",[150,300,500]]\n",
    "lst2 = ['요소1', \"요소2\"]\n",
    "\n",
    "print(type(lst1), type(lst2))"
   ]
  },
  {
   "cell_type": "code",
   "execution_count": 39,
   "id": "f6f4ff1a",
   "metadata": {},
   "outputs": [
    {
     "name": "stdout",
     "output_type": "stream",
     "text": [
      "[150, 300, 500]\n"
     ]
    }
   ],
   "source": [
    "print(lst1[-1])"
   ]
  },
  {
   "cell_type": "code",
   "execution_count": 45,
   "id": "fd359d64",
   "metadata": {},
   "outputs": [
    {
     "name": "stdout",
     "output_type": "stream",
     "text": [
      "삼성\n"
     ]
    }
   ],
   "source": [
    "print((lst1[4])[:2])"
   ]
  },
  {
   "cell_type": "code",
   "execution_count": 47,
   "id": "952f2392",
   "metadata": {},
   "outputs": [],
   "source": [
    "lst2.append([1,2])"
   ]
  },
  {
   "cell_type": "code",
   "execution_count": 49,
   "id": "efbd4009",
   "metadata": {},
   "outputs": [
    {
     "name": "stdout",
     "output_type": "stream",
     "text": [
      "['요소1', '요소2', [1, 2], [1, 2]]\n"
     ]
    }
   ],
   "source": [
    "print(lst2)"
   ]
  },
  {
   "cell_type": "code",
   "execution_count": 51,
   "id": "eca564f2",
   "metadata": {},
   "outputs": [
    {
     "name": "stdout",
     "output_type": "stream",
     "text": [
      "[10, 20, 30, '파이썬', '멀캠', [150, 300, 500]]\n"
     ]
    }
   ],
   "source": [
    "lst1[-2]=\"멀캠\"\n",
    "print(lst1)"
   ]
  },
  {
   "cell_type": "code",
   "execution_count": 53,
   "id": "5c2dbc3f",
   "metadata": {},
   "outputs": [
    {
     "name": "stdout",
     "output_type": "stream",
     "text": [
      "<class 'tuple'>\n",
      "[100, 200]\n"
     ]
    }
   ],
   "source": [
    "t1=(1,2,\"파이썬\", (100,200), [100,200])\n",
    "\n",
    "print(type(t1))\n",
    "print(t1[4])"
   ]
  },
  {
   "cell_type": "code",
   "execution_count": 56,
   "id": "f7f26c56",
   "metadata": {},
   "outputs": [],
   "source": [
    "t1[4].append(\"a\")"
   ]
  },
  {
   "cell_type": "code",
   "execution_count": 57,
   "id": "4b79ba32",
   "metadata": {},
   "outputs": [
    {
     "name": "stdout",
     "output_type": "stream",
     "text": [
      "(1, 2, '파이썬', (100, 200), [100, 200, 'a', 'a'])\n"
     ]
    }
   ],
   "source": [
    "print(t1)"
   ]
  },
  {
   "cell_type": "code",
   "execution_count": 62,
   "id": "6c8eab75",
   "metadata": {},
   "outputs": [],
   "source": [
    "t1[4].append(0)"
   ]
  },
  {
   "cell_type": "code",
   "execution_count": 63,
   "id": "050836a6",
   "metadata": {},
   "outputs": [
    {
     "name": "stdout",
     "output_type": "stream",
     "text": [
      "(1, 2, '파이썬', (100, 200), [100, 200, 'a', 'a', 0])\n"
     ]
    }
   ],
   "source": [
    "print(t1)"
   ]
  },
  {
   "cell_type": "code",
   "execution_count": 75,
   "id": "92c61555",
   "metadata": {},
   "outputs": [
    {
     "name": "stdout",
     "output_type": "stream",
     "text": [
      "{'이름': '최인규', '성별': '남성', '지역': '서울 성북구'}\n",
      "<class 'dict'>\n",
      "dict_keys(['이름', '성별', '지역'])\n",
      "dict_values(['최인규', '남성', '서울 성북구'])\n"
     ]
    }
   ],
   "source": [
    "dict1={'이름':'최인규', '성별':'남성', '지역':'서울 성북구'}\n",
    "print(dict1)\n",
    "print(type(dict1))\n",
    "print(dict1.keys())\n",
    "print(dict1.values())"
   ]
  },
  {
   "cell_type": "code",
   "execution_count": 80,
   "id": "e685c005",
   "metadata": {},
   "outputs": [
    {
     "name": "stdout",
     "output_type": "stream",
     "text": [
      "dict_keys(['이름', '성별', '나이'])\n",
      "['홍길동', '이순신', '유관순']\n",
      "홍길동\n"
     ]
    }
   ],
   "source": [
    "dict2={\"이름\":[\"홍길동\",\"이순신\",\"박변수\"],\n",
    "       \"성별\":[\"남\",\"남\",\"여\"],\n",
    "       \"나이\":[35,66,28]}\n",
    "\n",
    "print(dict2.keys())\n",
    "print(dict2[\"이름\"])\n",
    "print(dict2[\"이름\"][0])"
   ]
  },
  {
   "cell_type": "code",
   "execution_count": 103,
   "id": "535e5422",
   "metadata": {},
   "outputs": [
    {
     "name": "stdout",
     "output_type": "stream",
     "text": [
      "성별:남\n"
     ]
    }
   ],
   "source": [
    "print(\"성별:\"+dict2[\"성별\"][0])"
   ]
  },
  {
   "cell_type": "code",
   "execution_count": 104,
   "id": "391d292f",
   "metadata": {},
   "outputs": [
    {
     "name": "stdout",
     "output_type": "stream",
     "text": [
      "이름: 홍길동\n",
      "이름:홍길동, 성별:남, 나이:35\n"
     ]
    }
   ],
   "source": [
    "print('이름: '+dict2[\"이름\"][0])\n",
    "print(f'이름:{dict2[\"이름\"][0]}, 성별:{dict2[\"성별\"][0]}, 나이:{dict2[\"나이\"][0]}')\n"
   ]
  },
  {
   "cell_type": "code",
   "execution_count": null,
   "id": "2ee2ab9a",
   "metadata": {},
   "outputs": [],
   "source": []
  },
  {
   "cell_type": "code",
   "execution_count": 94,
   "id": "1696a801",
   "metadata": {},
   "outputs": [
    {
     "name": "stdout",
     "output_type": "stream",
     "text": [
      "이름:홍길동,성별:남,나이:35\n"
     ]
    }
   ],
   "source": [
    "print(f'이름:{dict2[\"이름\"][0]},성별:{dict2[\"성별\"][0]},나이:{dict2[\"나이\"][0]}')"
   ]
  },
  {
   "cell_type": "code",
   "execution_count": 97,
   "id": "75eb8a29",
   "metadata": {},
   "outputs": [
    {
     "name": "stdout",
     "output_type": "stream",
     "text": [
      "이름:최인규, 나이:25\n"
     ]
    }
   ],
   "source": [
    "name = \"최인규\"\n",
    "age = 25\n",
    "\n",
    "print(f'이름:{name}, 나이:{age}')"
   ]
  },
  {
   "cell_type": "code",
   "execution_count": null,
   "id": "04c2dddb",
   "metadata": {},
   "outputs": [],
   "source": [
    "dict1={\"이름\":\"서정동\", '성별':'남', '지역':'서울 노원구', '성적': 85}\n",
    "dict2={\"이름\":['홍길동', '이순신', '박변수'], \n",
    "       \"성별\":['남', '남', '여'],\n",
    "       \"나이\":[35, 66, 28]}\n"
   ]
  },
  {
   "cell_type": "code",
   "execution_count": 111,
   "id": "4df7e929",
   "metadata": {},
   "outputs": [
    {
     "name": "stdout",
     "output_type": "stream",
     "text": [
      "dict_keys(['이름', '성별', '나이'])\n",
      "dict_values([['홍길동', '이순신', '유관순'], ['남', '남', '여'], [35, 66, 28]])\n",
      "['홍길동', '이순신', '유관순']\n"
     ]
    }
   ],
   "source": [
    "print(dict2.keys())\n",
    "print(dict2.values())\n",
    "print(dict2[\"이름\"])\n"
   ]
  },
  {
   "cell_type": "code",
   "execution_count": null,
   "id": "d18225c0",
   "metadata": {},
   "outputs": [],
   "source": []
  },
  {
   "cell_type": "code",
   "execution_count": null,
   "id": "a1d0c1e9",
   "metadata": {},
   "outputs": [],
   "source": []
  },
  {
   "cell_type": "code",
   "execution_count": null,
   "id": "36f51d1c",
   "metadata": {},
   "outputs": [],
   "source": []
  },
  {
   "cell_type": "code",
   "execution_count": null,
   "id": "8aebae4a",
   "metadata": {},
   "outputs": [],
   "source": []
  },
  {
   "cell_type": "code",
   "execution_count": null,
   "id": "928c32be",
   "metadata": {},
   "outputs": [],
   "source": []
  },
  {
   "cell_type": "code",
   "execution_count": null,
   "id": "80f26805",
   "metadata": {},
   "outputs": [],
   "source": []
  }
 ],
 "metadata": {
  "kernelspec": {
   "display_name": "Python 3",
   "language": "python",
   "name": "python3"
  },
  "language_info": {
   "codemirror_mode": {
    "name": "ipython",
    "version": 3
   },
   "file_extension": ".py",
   "mimetype": "text/x-python",
   "name": "python",
   "nbconvert_exporter": "python",
   "pygments_lexer": "ipython3",
   "version": "3.9.5"
  }
 },
 "nbformat": 4,
 "nbformat_minor": 5
}
